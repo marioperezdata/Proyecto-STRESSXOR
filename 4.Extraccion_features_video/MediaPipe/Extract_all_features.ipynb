{
  "nbformat": 4,
  "nbformat_minor": 0,
  "metadata": {
    "colab": {
      "provenance": []
    },
    "kernelspec": {
      "name": "python3",
      "display_name": "Python 3"
    },
    "language_info": {
      "name": "python"
    }
  },
  "cells": [
    {
      "cell_type": "code",
      "source": [
        "!pip install --upgrade numpy==1.26.0"
      ],
      "metadata": {
        "colab": {
          "base_uri": "https://localhost:8080/"
        },
        "id": "Xk4hn7nn92WY",
        "outputId": "b61006dc-f5d8-4a98-8720-89589bbbbc67"
      },
      "execution_count": null,
      "outputs": [
        {
          "output_type": "stream",
          "name": "stdout",
          "text": [
            "Requirement already satisfied: numpy==1.26.0 in /usr/local/lib/python3.11/dist-packages (1.26.0)\n"
          ]
        }
      ]
    },
    {
      "cell_type": "code",
      "source": [
        "!pip install mediapipe"
      ],
      "metadata": {
        "colab": {
          "base_uri": "https://localhost:8080/"
        },
        "id": "svRNqZFP7Nwu",
        "outputId": "851163c1-4175-49ec-a0ec-7235745b52b1"
      },
      "execution_count": null,
      "outputs": [
        {
          "output_type": "stream",
          "name": "stdout",
          "text": [
            "Requirement already satisfied: mediapipe in /usr/local/lib/python3.11/dist-packages (0.10.21)\n",
            "Requirement already satisfied: absl-py in /usr/local/lib/python3.11/dist-packages (from mediapipe) (1.4.0)\n",
            "Requirement already satisfied: attrs>=19.1.0 in /usr/local/lib/python3.11/dist-packages (from mediapipe) (25.3.0)\n",
            "Requirement already satisfied: flatbuffers>=2.0 in /usr/local/lib/python3.11/dist-packages (from mediapipe) (25.2.10)\n",
            "Requirement already satisfied: jax in /usr/local/lib/python3.11/dist-packages (from mediapipe) (0.5.2)\n",
            "Requirement already satisfied: jaxlib in /usr/local/lib/python3.11/dist-packages (from mediapipe) (0.5.1)\n",
            "Requirement already satisfied: matplotlib in /usr/local/lib/python3.11/dist-packages (from mediapipe) (3.10.0)\n",
            "Requirement already satisfied: numpy<2 in /usr/local/lib/python3.11/dist-packages (from mediapipe) (1.26.0)\n",
            "Requirement already satisfied: opencv-contrib-python in /usr/local/lib/python3.11/dist-packages (from mediapipe) (4.11.0.86)\n",
            "Collecting protobuf<5,>=4.25.3 (from mediapipe)\n",
            "  Using cached protobuf-4.25.6-cp37-abi3-manylinux2014_x86_64.whl.metadata (541 bytes)\n",
            "Requirement already satisfied: sounddevice>=0.4.4 in /usr/local/lib/python3.11/dist-packages (from mediapipe) (0.5.1)\n",
            "Requirement already satisfied: sentencepiece in /usr/local/lib/python3.11/dist-packages (from mediapipe) (0.2.0)\n",
            "Requirement already satisfied: CFFI>=1.0 in /usr/local/lib/python3.11/dist-packages (from sounddevice>=0.4.4->mediapipe) (1.17.1)\n",
            "Requirement already satisfied: ml_dtypes>=0.4.0 in /usr/local/lib/python3.11/dist-packages (from jax->mediapipe) (0.4.1)\n",
            "Requirement already satisfied: opt_einsum in /usr/local/lib/python3.11/dist-packages (from jax->mediapipe) (3.4.0)\n",
            "Requirement already satisfied: scipy>=1.11.1 in /usr/local/lib/python3.11/dist-packages (from jax->mediapipe) (1.14.1)\n",
            "Requirement already satisfied: contourpy>=1.0.1 in /usr/local/lib/python3.11/dist-packages (from matplotlib->mediapipe) (1.3.1)\n",
            "Requirement already satisfied: cycler>=0.10 in /usr/local/lib/python3.11/dist-packages (from matplotlib->mediapipe) (0.12.1)\n",
            "Requirement already satisfied: fonttools>=4.22.0 in /usr/local/lib/python3.11/dist-packages (from matplotlib->mediapipe) (4.56.0)\n",
            "Requirement already satisfied: kiwisolver>=1.3.1 in /usr/local/lib/python3.11/dist-packages (from matplotlib->mediapipe) (1.4.8)\n",
            "Requirement already satisfied: packaging>=20.0 in /usr/local/lib/python3.11/dist-packages (from matplotlib->mediapipe) (24.2)\n",
            "Requirement already satisfied: pillow>=8 in /usr/local/lib/python3.11/dist-packages (from matplotlib->mediapipe) (11.1.0)\n",
            "Requirement already satisfied: pyparsing>=2.3.1 in /usr/local/lib/python3.11/dist-packages (from matplotlib->mediapipe) (3.2.1)\n",
            "Requirement already satisfied: python-dateutil>=2.7 in /usr/local/lib/python3.11/dist-packages (from matplotlib->mediapipe) (2.8.2)\n",
            "Requirement already satisfied: pycparser in /usr/local/lib/python3.11/dist-packages (from CFFI>=1.0->sounddevice>=0.4.4->mediapipe) (2.22)\n",
            "Requirement already satisfied: six>=1.5 in /usr/local/lib/python3.11/dist-packages (from python-dateutil>=2.7->matplotlib->mediapipe) (1.17.0)\n",
            "Using cached protobuf-4.25.6-cp37-abi3-manylinux2014_x86_64.whl (294 kB)\n",
            "Installing collected packages: protobuf\n",
            "  Attempting uninstall: protobuf\n",
            "    Found existing installation: protobuf 5.26.1\n",
            "    Uninstalling protobuf-5.26.1:\n",
            "      Successfully uninstalled protobuf-5.26.1\n",
            "\u001b[31mERROR: pip's dependency resolver does not currently take into account all the packages that are installed. This behaviour is the source of the following dependency conflicts.\n",
            "grpcio-status 1.71.0 requires protobuf<6.0dev,>=5.26.1, but you have protobuf 4.25.6 which is incompatible.\u001b[0m\u001b[31m\n",
            "\u001b[0mSuccessfully installed protobuf-4.25.6\n"
          ]
        }
      ]
    },
    {
      "cell_type": "code",
      "source": [
        "!pip install --upgrade numpy==1.26.0"
      ],
      "metadata": {
        "colab": {
          "base_uri": "https://localhost:8080/"
        },
        "id": "r4D_bZag9Sz1",
        "outputId": "aec8a0f8-30fe-4943-df6e-6abb8bda06b0"
      },
      "execution_count": null,
      "outputs": [
        {
          "output_type": "stream",
          "name": "stdout",
          "text": [
            "Collecting numpy==1.26.0\n",
            "  Downloading numpy-1.26.0-cp311-cp311-manylinux_2_17_x86_64.manylinux2014_x86_64.whl.metadata (58 kB)\n",
            "Downloading numpy-1.26.0-cp311-cp311-manylinux_2_17_x86_64.manylinux2014_x86_64.whl (18.2 MB)\n",
            "\u001b[2K   \u001b[90m━━━━━━━━━━━━━━━━━━━━━━━━━━━━━━━━━━━━━━━━\u001b[0m \u001b[32m18.2/18.2 MB\u001b[0m \u001b[31m101.5 MB/s\u001b[0m eta \u001b[36m0:00:00\u001b[0m\n",
            "\u001b[?25hInstalling collected packages: numpy\n",
            "  Attempting uninstall: numpy\n",
            "    Found existing installation: numpy 2.2.4\n",
            "    Uninstalling numpy-2.2.4:\n",
            "      Successfully uninstalled numpy-2.2.4\n",
            "Successfully installed numpy-1.26.0\n"
          ]
        }
      ]
    },
    {
      "cell_type": "code",
      "source": [
        "import cv2\n",
        "import mediapipe as mp\n",
        "import numpy as np"
      ],
      "metadata": {
        "id": "C4vyZ9Cv7LXF"
      },
      "execution_count": null,
      "outputs": []
    },
    {
      "cell_type": "code",
      "source": [
        "# Funciones\n",
        "###Face####\n",
        "# Function to calculate distance between landmarks\n",
        "def distance(point1, point2):\n",
        "    return np.sqrt((point1.x - point2.x)**2 + (point1.y - point2.y)**2)\n",
        "\n",
        "# Function to estimate head pose angles\n",
        "def get_head_pose(face_landmarks, image_width, image_height):\n",
        "    # 3D model points (from MediaPipe documentation)\n",
        "    model_points = np.array([\n",
        "        (0.0, 0.0, 0.0),             # Nose tip\n",
        "        (0.0, -330.0, -65.0),        # Chin\n",
        "        (-225.0, 170.0, -135.0),     # Left eye left corner\n",
        "        (225.0, 170.0, -135.0),      # Right eye right corner\n",
        "        (-150.0, -150.0, -125.0),    # Left Mouth corner\n",
        "        (150.0, -150.0, -125.0)      # Right mouth corner\n",
        "    ])\n",
        "\n",
        "    # 2D image points (from detected landmarks)\n",
        "    image_points = np.array([\n",
        "        (face_landmarks.landmark[1].x * image_width, face_landmarks.landmark[1].y * image_height),\n",
        "        (face_landmarks.landmark[152].x * image_width, face_landmarks.landmark[152].y * image_height),\n",
        "        (face_landmarks.landmark[33].x * image_width, face_landmarks.landmark[33].y * image_height),\n",
        "        (face_landmarks.landmark[263].x * image_width, face_landmarks.landmark[263].y * image_height),\n",
        "        (face_landmarks.landmark[61].x * image_width, face_landmarks.landmark[61].y * image_height),\n",
        "        (face_landmarks.landmark[291].x * image_width, face_landmarks.landmark[291].y * image_height)\n",
        "    ], dtype=\"double\")\n",
        "\n",
        "    # Camera internals\n",
        "    focal_length = image_width\n",
        "    center = (image_width / 2, image_height / 2)\n",
        "    camera_matrix = np.array([[focal_length, 0, center[0]],\n",
        "                             [0, focal_length, center[1]],\n",
        "                             [0, 0, 1]], dtype=\"double\")\n",
        "\n",
        "    # Solve for head pose\n",
        "    dist_coeffs = np.zeros((4, 1))  # Assuming no lens distortion\n",
        "    (success, rotation_vector, translation_vector) = cv2.solvePnP(model_points, image_points,\n",
        "                                                                  camera_matrix, dist_coeffs,\n",
        "                                                                  flags=cv2.SOLVEPNP_ITERATIVE)\n",
        "\n",
        "    # Get rotation angles (in degrees)\n",
        "    rotation_mat, _ = cv2.Rodrigues(rotation_vector)\n",
        "    pose_mat = cv2.hconcat((rotation_mat, translation_vector))\n",
        "    _, _, _, _, _, _, euler_angles = cv2.decomposeProjectionMatrix(pose_mat)\n",
        "    pitch, yaw, roll = euler_angles.flatten()\n",
        "\n",
        "    return pitch, yaw, roll\n",
        "\n",
        "###Body###\n",
        "\n",
        "def calculate_bone_orientation(landmark1, landmark2):\n",
        "    \"\"\"Calcula la orientación de un hueso en los planos ZX, XY, YZ.\"\"\"\n",
        "    v = np.array([landmark2.x - landmark1.x, landmark2.y - landmark1.y, landmark2.z - landmark1.z])\n",
        "\n",
        "    # Orientación en el plano ZX\n",
        "    zx_angle = np.degrees(np.arctan2(v[2], v[0]))\n",
        "\n",
        "    # Orientación en el plano XY\n",
        "    xy_angle = np.degrees(np.arctan2(v[1], v[0]))\n",
        "\n",
        "    # Orientación en el plano YZ\n",
        "    yz_angle = np.degrees(np.arctan2(v[2], v[1]))\n",
        "\n",
        "    return zx_angle, xy_angle, yz_angle\n",
        "\n",
        "def calculate_angle(landmark1, landmark2, landmark3):\n",
        "    \"\"\"Calcula el ángulo entre tres puntos de referencia.\"\"\"\n",
        "    v1 = np.array([landmark2.x - landmark1.x, landmark2.y - landmark1.y, landmark2.z - landmark1.z])\n",
        "    v2 = np.array([landmark3.x - landmark2.x, landmark3.y - landmark2.y, landmark3.z - landmark2.z])\n",
        "\n",
        "    v1_u = v1 / np.linalg.norm(v1)\n",
        "    v2_u = v2 / np.linalg.norm(v2)\n",
        "\n",
        "    return np.degrees(np.arccos(np.clip(np.dot(v1_u, v2_u), -1.0, 1.0)))\n",
        "\n",
        "def calculate_bone_orientation(landmark1, landmark2):\n",
        "    \"\"\"Calcula la orientación de un hueso en los planos ZX, XY, YZ.\"\"\"\n",
        "    v = np.array([landmark2.x - landmark1.x, landmark2.y - landmark1.y, landmark2.z - landmark1.z])\n",
        "\n",
        "    # Orientación en el plano ZX\n",
        "    zx_angle = np.degrees(np.arctan2(v[2], v[0]))\n",
        "\n",
        "    # Orientación en el plano XY\n",
        "    xy_angle = np.degrees(np.arctan2(v[1], v[0]))\n",
        "\n",
        "    # Orientación en el plano YZ\n",
        "    yz_angle = np.degrees(np.arctan2(v[2], v[1]))\n",
        "\n",
        "    return zx_angle, xy_angle, yz_angle\n",
        "\n",
        "def calculate_midpoint(landmark1, landmark2):\n",
        "    return mp.solutions.pose.PoseLandmark(\n",
        "        x=(landmark1.x + landmark2.x) / 2,\n",
        "        y=(landmark1.y + landmark2.y) / 2,\n",
        "        z=(landmark1.z + landmark2.z) / 2,\n",
        "    )\n",
        "\n",
        "def calculate_midpoint(landmark1, landmark2):\n",
        "    return mp.solutions.pose.PoseLandmark(\n",
        "        x=(landmark1.x + landmark2.x) / 2,\n",
        "        y=(landmark1.y + landmark2.y) / 2,\n",
        "        z=(landmark1.z + landmark2.z) / 2,\n",
        "    )\n",
        "def calculate_stdv(landmark1, landmark2):\n",
        "    \"\"\"Calcula la desviación estándar de dos landmarks.\"\"\"\n",
        "    x_values = [landmark1.x, landmark2.x]\n",
        "    y_values = [landmark1.y, landmark2.y]\n",
        "    z_values = [landmark1.z, landmark2.z]\n",
        "\n",
        "    x_stdv = np.std(x_values)\n",
        "    y_stdv = np.std(y_values)\n",
        "    z_stdv = np.std(z_values)\n",
        "\n",
        "    return mp.solutions.pose.PoseLandmark(x=x_stdv, y=y_stdv, z=z_stdv)\n",
        "\n"
      ],
      "metadata": {
        "id": "MddAAx2RzQ-i"
      },
      "execution_count": null,
      "outputs": []
    },
    {
      "cell_type": "code",
      "source": [
        "###Extractores de features###\n",
        "\n",
        "def extract_facial_features(face_landmarks, image_width, image_height):\n",
        "    \"\"\"Extrae las features faciales de los landmarks.\"\"\"\n",
        "\n",
        "    if face_landmarks:\n",
        "          pitch, yaw, roll = get_head_pose(face_landmarks, image.shape[1], image.shape[0])\n",
        "          mouth_open = distance(face_landmarks.landmark[13], face_landmarks.landmark[14])\n",
        "          left_eye_closed = distance(face_landmarks.landmark[159], face_landmarks.landmark[145]) < 0.02\n",
        "          right_eye_closed = distance(face_landmarks.landmark[386], face_landmarks.landmark[374]) < 0.02\n",
        "          left_eyebrow_lowered = face_landmarks.landmark[105].y > face_landmarks.landmark[107].y\n",
        "          left_eyebrow_raised = face_landmarks.landmark[105].y < face_landmarks.landmark[107].y\n",
        "          right_eyebrow_lowered = face_landmarks.landmark[334].y > face_landmarks.landmark[336].y\n",
        "          right_eyebrow_raised = face_landmarks.landmark[334].y < face_landmarks.landmark[336].y\n",
        "          left_eye_center_x = (face_landmarks.landmark[159].x + face_landmarks.landmark[145].x) / 2\n",
        "          right_eye_center_x = (face_landmarks.landmark[386].x + face_landmarks.landmark[374].x) / 2\n",
        "          gaze_direction_forward = abs(left_eye_center_x - right_eye_center_x) < 0.05\n",
        "          gaze_direction_left = left_eye_center_x < right_eye_center_x\n",
        "          gaze_direction_right = left_eye_center_x > right_eye_center_x\n",
        "          au01_inner_brow_raiser = face_landmarks.landmark[66].y - face_landmarks.landmark[27].y\n",
        "          au02_outer_brow_raiser = face_landmarks.landmark[107].y - face_landmarks.landmark[52].y\n",
        "          au04_brow_lowerer = face_landmarks.landmark[52].y - face_landmarks.landmark[107].y\n",
        "          au05_upper_lid_raiser = distance(face_landmarks.landmark[159], face_landmarks.landmark[145])\n",
        "          au06_cheek_raiser = distance(face_landmarks.landmark[127], face_landmarks.landmark[234])\n",
        "          au07_lid_tightener = distance(face_landmarks.landmark[33], face_landmarks.landmark[133])\n",
        "          au09_nose_wrinkler = distance(face_landmarks.landmark[1], face_landmarks.landmark[5])\n",
        "          au10_upper_lip_raiser = face_landmarks.landmark[13].y - face_landmarks.landmark[0].y\n",
        "          au12_lip_corner_puller = distance(face_landmarks.landmark[78], face_landmarks.landmark[308])\n",
        "          au14_dimpler = distance(face_landmarks.landmark[61], face_landmarks.landmark[291])\n",
        "          au15_lip_corner_depressor = face_landmarks.landmark[0].y - face_landmarks.landmark[14].y\n",
        "          au17_chin_raiser = distance(face_landmarks.landmark[152], face_landmarks.landmark[176])\n",
        "          au20_lip_stretcher = distance(face_landmarks.landmark[57], face_landmarks.landmark[287])\n",
        "          au23_lip_tightener = distance(face_landmarks.landmark[13], face_landmarks.landmark[14])\n",
        "          au24_lip_pressor = distance(face_landmarks.landmark[0], face_landmarks.landmark[17])\n",
        "          au25_lips_part = distance(face_landmarks.landmark[13], face_landmarks.landmark[14])\n",
        "          au26_jaw_drop = distance(face_landmarks.landmark[13], face_landmarks.landmark[152])\n",
        "          au27_mouth_stretch = distance(face_landmarks.landmark[61], face_landmarks.landmark[291])\n",
        "          au43_eyes_closed = left_eye_closed and right_eye_closed\n",
        "          features = {\n",
        "              'SyHeadOrientation': pitch,\n",
        "              'SxHeadOrientation': yaw,\n",
        "              'SzHeadOrientation': roll,\n",
        "              'SmouthOpen': mouth_open,\n",
        "              'SleftEyeClosed': left_eye_closed,\n",
        "              'SrightEyeClosed': right_eye_closed,\n",
        "              'SleftEyebrowLowered': left_eyebrow_lowered,\n",
        "              'SleftEyebrowRaised': left_eyebrow_raised,\n",
        "              'SrightEyebrowLowered': right_eyebrow_lowered,\n",
        "              'SrightEyebrowRaised': right_eyebrow_raised,\n",
        "              'SgazeDirectionForward': gaze_direction_forward,\n",
        "              'SgazeDirectionLeft': gaze_direction_left,\n",
        "              'SgazeDirectionRight': gaze_direction_right,\n",
        "              'SAu01_InnerBrowRaiser': au01_inner_brow_raiser,\n",
        "              'SAu02_OuterBrowRaiser': au02_outer_brow_raiser,\n",
        "              'SAu04_BrowLowerer': au04_brow_lowerer,\n",
        "              'SAu05_UpperLidRaiser': au05_upper_lid_raiser,\n",
        "              'SAu06_CheekRaiser': au06_cheek_raiser,\n",
        "              'SAu07_LidTightener': au07_lid_tightener,\n",
        "              'SAu09_NoseWrinkler': au09_nose_wrinkler,\n",
        "              'SAu10_UpperLipRaiser': au10_upper_lip_raiser,\n",
        "              'SAu12_LipCornerPuller': au12_lip_corner_puller,\n",
        "              'SAu14_Dimpler': au14_dimpler,\n",
        "              'SAu15_LipCornerDepressor': au15_lip_corner_depressor,\n",
        "              'SAu17_ChinRaiser': au17_chin_raiser,\n",
        "              'SAu20_LipStretcher': au20_lip_stretcher,\n",
        "              'SAu23_LipTightener': au23_lip_tightener,\n",
        "              'SAu24_LipPressor': au24_lip_pressor,\n",
        "              'SAu25_LipsPart': au25_lips_part,\n",
        "              'SAu26_JawDrop': au26_jaw_drop,\n",
        "              'SAu27_MouthStretch': au27_mouth_stretch,\n",
        "              'SAu43_EyesClosed': au43_eyes_closed\n",
        "          }\n",
        "\n",
        "    return features\n",
        "\n",
        "\n",
        "def extract_body_features(landmarks):\n",
        "    \"\"\"Extrae las características del cuerpo a partir de los puntos de referencia.\"\"\"\n",
        "    features = []\n",
        "\n",
        "    # Distancia\n",
        "    features.append(landmarks[mp_pose.PoseLandmark.NOSE].z)  # avgDepth (aproximación)\n",
        "\n",
        "    # Ángulos articulares\n",
        "    features.append(calculate_angle(landmarks[mp_pose.PoseLandmark.LEFT_HIP], landmarks[mp_pose.PoseLandmark.LEFT_SHOULDER], landmarks[mp_pose.PoseLandmark.LEFT_ELBOW]))  # leftShoulderAngle\n",
        "    features.append(calculate_angle(landmarks[mp_pose.PoseLandmark.RIGHT_HIP], landmarks[mp_pose.PoseLandmark.RIGHT_SHOULDER], landmarks[mp_pose.PoseLandmark.RIGHT_ELBOW]))  # rightShoulderAngle\n",
        "    features.append(calculate_angle(landmarks[mp_pose.PoseLandmark.LEFT_SHOULDER], landmarks[mp_pose.PoseLandmark.LEFT_HIP], landmarks[mp_pose.PoseLandmark.RIGHT_HIP]))  # leanAngle (aproximación)\n",
        "    features.append(calculate_angle(landmarks[mp_pose.PoseLandmark.LEFT_HIP], landmarks[mp_pose.PoseLandmark.LEFT_SHOULDER], landmarks[mp_pose.PoseLandmark.RIGHT_SHOULDER])) # HipCenter_Spine-Spine_ShoulderCenter\n",
        "    features.append(calculate_angle(landmarks[mp_pose.PoseLandmark.LEFT_SHOULDER], landmarks[mp_pose.PoseLandmark.RIGHT_SHOULDER], landmarks[mp_pose.PoseLandmark.NOSE])) # Spine_ShoulderCenter-ShoulderCenter_Head\n",
        "    features.append(calculate_angle(landmarks[mp_pose.PoseLandmark.RIGHT_SHOULDER], landmarks[mp_pose.PoseLandmark.LEFT_SHOULDER], landmarks[mp_pose.PoseLandmark.LEFT_ELBOW])) # Spine_ShoulderCenter-ShoulderCenter_ShoulderLeft\n",
        "    features.append(calculate_angle(landmarks[mp_pose.PoseLandmark.LEFT_SHOULDER], landmarks[mp_pose.PoseLandmark.RIGHT_SHOULDER], landmarks[mp_pose.PoseLandmark.RIGHT_ELBOW])) # Spine_ShoulderCenter-ShoulderCenter_ShoulderRight\n",
        "    features.append(calculate_angle(landmarks[mp_pose.PoseLandmark.LEFT_SHOULDER], landmarks[mp_pose.PoseLandmark.LEFT_ELBOW], landmarks[mp_pose.PoseLandmark.LEFT_WRIST])) # ShoulderCenter_ShoulderLeft-ShoulderLeft_ElbowLeft\n",
        "    features.append(calculate_angle(landmarks[mp_pose.PoseLandmark.LEFT_ELBOW], landmarks[mp_pose.PoseLandmark.LEFT_WRIST], landmarks[mp_pose.PoseLandmark.LEFT_PINKY])) # ShoulderLeft_ElbowLeft-ElbowLeft_WristLeft\n",
        "    features.append(calculate_angle(landmarks[mp_pose.PoseLandmark.RIGHT_SHOULDER], landmarks[mp_pose.PoseLandmark.RIGHT_ELBOW], landmarks[mp_pose.PoseLandmark.RIGHT_WRIST])) # ShoulderCenter_ShoulderRight-ShoulderRight_ElbowRight\n",
        "    features.append(calculate_angle(landmarks[mp_pose.PoseLandmark.LEFT_WRIST], landmarks[mp_pose.PoseLandmark.LEFT_PINKY], landmarks[mp_pose.PoseLandmark.LEFT_INDEX])) # ElbowLeft_WristLeft-WristLeft_HandLeft (aproximación)\n",
        "    features.append(calculate_angle(landmarks[mp_pose.PoseLandmark.RIGHT_SHOULDER], landmarks[mp_pose.PoseLandmark.RIGHT_ELBOW], landmarks[mp_pose.PoseLandmark.RIGHT_WRIST])) # ShoulderCenter_ShoulderRight-ShoulderRight_ElbowRight\n",
        "    features.append(calculate_angle(landmarks[mp_pose.PoseLandmark.RIGHT_ELBOW], landmarks[mp_pose.PoseLandmark.RIGHT_WRIST], landmarks[mp_pose.PoseLandmark.RIGHT_PINKY])) # ShoulderRight_ElbowRight-ElbowRight_WristRight\n",
        "    features.append(calculate_angle(landmarks[mp_pose.PoseLandmark.RIGHT_WRIST], landmarks[mp_pose.PoseLandmark.RIGHT_PINKY], landmarks[mp_pose.PoseLandmark.RIGHT_INDEX])) # ElbowRight_WristRight-WristRight_HandRight (aproximación)\n",
        "\n",
        "\n",
        "    # Orientaciones óseas\n",
        "    bones = [\n",
        "        (mp_pose.PoseLandmark.LEFT_HIP, mp_pose.PoseLandmark.LEFT_SHOULDER),  # HipCenter_Spine\n",
        "        (mp_pose.PoseLandmark.LEFT_SHOULDER, mp_pose.PoseLandmark.RIGHT_SHOULDER),  # Spine_ShoulderCenter\n",
        "        (mp_pose.PoseLandmark.RIGHT_SHOULDER, mp_pose.PoseLandmark.NOSE),  # ShoulderCenter_Head\n",
        "        (mp_pose.PoseLandmark.RIGHT_SHOULDER, mp_pose.PoseLandmark.LEFT_SHOULDER),  # ShoulderCenter_ShoulderLeft\n",
        "        (mp_pose.PoseLandmark.LEFT_SHOULDER, mp_pose.PoseLandmark.RIGHT_SHOULDER),  # ShoulderCenter_ShoulderRight\n",
        "        (mp_pose.PoseLandmark.LEFT_SHOULDER, mp_pose.PoseLandmark.LEFT_ELBOW),  # ShoulderLeft_ElbowLeft\n",
        "        (mp_pose.PoseLandmark.LEFT_ELBOW, mp_pose.PoseLandmark.LEFT_WRIST),  # ElbowLeft_WristLeft\n",
        "        (mp_pose.PoseLandmark.LEFT_WRIST, mp_pose.PoseLandmark.LEFT_PINKY),  # WristLeft_HandLeft\n",
        "        (mp_pose.PoseLandmark.RIGHT_SHOULDER, mp_pose.PoseLandmark.RIGHT_ELBOW),  # ShoulderRight_ElbowRight\n",
        "        (mp_pose.PoseLandmark.RIGHT_ELBOW, mp_pose.PoseLandmark.RIGHT_WRIST),  # ElbowRight_WristRight\n",
        "        (mp_pose.PoseLandmark.RIGHT_WRIST, mp_pose.PoseLandmark.RIGHT_PINKY),  # WristRight_HandRight\n",
        "    ]\n",
        "    for landmark1_index, landmark2_index in bones:\n",
        "        zx_angle, xy_angle, yz_angle = calculate_bone_orientation(landmarks[landmark1_index], landmarks[landmark2_index])\n",
        "        features.extend([zx_angle, xy_angle, yz_angle])\n",
        "\n",
        "    return features"
      ],
      "metadata": {
        "id": "7zzFdBEpzXHc"
      },
      "execution_count": null,
      "outputs": []
    },
    {
      "cell_type": "code",
      "source": [
        "###Extrator total de features###\n",
        "\n",
        "def extract_all_features(image):\n",
        "    \"\"\"Extrae las features faciales y corporales de una imagen.\"\"\"\n",
        "\n",
        "    # Convertir la imagen a RGB\n",
        "    image_rgb = cv2.cvtColor(image, cv2.COLOR_BGR2RGB)\n",
        "\n",
        "    # Procesar la imagen con los extractores de features\n",
        "    results_face_mesh = face_mesh.process(image_rgb)\n",
        "    results_pose = pose.process(image_rgb)\n",
        "\n",
        "    # Inicializar las features\n",
        "    all_features = {}\n",
        "\n",
        "    if results_face_mesh.multi_face_landmarks:\n",
        "        print(\"Landmarks faciales detectados\")\n",
        "        face_landmarks = results_face_mesh.multi_face_landmarks[0]\n",
        "        facial_features = extract_facial_features(face_landmarks, image.shape[1], image.shape[0])\n",
        "        all_features.update(facial_features)\n",
        "\n",
        "    # Extraer features corporales\n",
        "    if results_pose.pose_landmarks:\n",
        "        print(\"Landmarks corporales detectados\")\n",
        "        body_landmarks = results_pose.pose_landmarks.landmark\n",
        "        body_posture_features = extract_body_features(body_landmarks)  # Usar la función extract_features del segundo extractor\n",
        "        # Agregar las features corporales al diccionario all_features\n",
        "        all_features.update({'body_' + k: v for k, v in zip(['avgDepth', 'leftShoulderAngle', 'rightShoulderAngle', 'leanAngle', 'HipCenter_Spine-Spine_ShoulderCenter', 'Spine_ShoulderCenter-ShoulderCenter_Head', 'Spine_ShoulderCenter-ShoulderCenter_ShoulderLeft', 'Spine_ShoulderCenter-ShoulderCenter_ShoulderRight', 'ShoulderCenter_ShoulderLeft-ShoulderLeft_ElbowLeft', 'ShoulderLeft_ElbowLeft-ElbowLeft_WristLeft', 'ShoulderCenter_ShoulderRight-ShoulderRight_ElbowRight', 'ElbowLeft_WristLeft-WristLeft_HandLeft', 'ShoulderCenter_ShoulderRight-ShoulderRight_ElbowRight', 'ShoulderRight_ElbowRight-ElbowRight_WristRight', 'ElbowRight_WristRight-WristRight_HandRight'] + ['zx_angle_HipCenter_Spine', 'xy_angle_HipCenter_Spine', 'yz_angle_HipCenter_Spine', 'zx_angle_Spine_ShoulderCenter', 'xy_angle_Spine_ShoulderCenter', 'yz_angle_Spine_ShoulderCenter', 'zx_angle_ShoulderCenter_Head', 'xy_angle_ShoulderCenter_Head', 'yz_angle_ShoulderCenter_Head', 'zx_angle_ShoulderCenter_ShoulderLeft', 'xy_angle_ShoulderCenter_ShoulderLeft', 'yz_angle_ShoulderCenter_ShoulderLeft', 'zx_angle_ShoulderCenter_ShoulderRight', 'xy_angle_ShoulderCenter_ShoulderRight', 'yz_angle_ShoulderCenter_ShoulderRight', 'zx_angle_ShoulderLeft_ElbowLeft', 'xy_angle_ShoulderLeft_ElbowLeft', 'yz_angle_ShoulderLeft_ElbowLeft', 'zx_angle_ElbowLeft_WristLeft', 'xy_angle_ElbowLeft_WristLeft', 'yz_angle_ElbowLeft_WristLeft', 'zx_angle_WristLeft_HandLeft', 'xy_angle_WristLeft_HandLeft', 'yz_angle_WristLeft_HandLeft', 'zx_angle_ShoulderRight_ElbowRight', 'xy_angle_ShoulderRight_ElbowRight', 'yz_angle_ShoulderRight_ElbowRight', 'zx_angle_ElbowRight_WristRight', 'xy_angle_ElbowRight_WristRight', 'yz_angle_ElbowRight_WristRight', 'zx_angle_WristRight_HandRight', 'xy_angle_WristRight_HandRight', 'yz_angle_WristRight_HandRight'], body_posture_features)})  # Agregar prefijo 'body_' a las claves\n",
        "        all_features = {k: (1 if v is True else 0) if isinstance(v, bool) else v for k, v in all_features.items()}\n",
        "    return all_features"
      ],
      "metadata": {
        "id": "mgKb2Jiq4tV2"
      },
      "execution_count": null,
      "outputs": []
    },
    {
      "cell_type": "markdown",
      "source": [
        "1. Importar las bibliotecas necesarias:"
      ],
      "metadata": {
        "id": "jwlG5veNz6Z1"
      }
    },
    {
      "cell_type": "code",
      "source": [
        "import cv2\n",
        "import mediapipe as mp\n",
        "import numpy as np"
      ],
      "metadata": {
        "id": "Lt_0shYGz6Ea"
      },
      "execution_count": null,
      "outputs": []
    },
    {
      "cell_type": "markdown",
      "source": [
        "2. Inicializar los extractores de features:"
      ],
      "metadata": {
        "id": "9kJ-8T9o0ABr"
      }
    },
    {
      "cell_type": "code",
      "source": [
        "mp_face_mesh = mp.solutions.face_mesh\n",
        "mp_pose = mp.solutions.pose\n",
        "\n",
        "face_mesh = mp_face_mesh.FaceMesh(\n",
        "    max_num_faces=1,\n",
        "    refine_landmarks=True,\n",
        "    min_detection_confidence=0.5,\n",
        "    min_tracking_confidence=0.5\n",
        ")\n",
        "\n",
        "pose = mp_pose.Pose(\n",
        "    static_image_mode=False,  # Para video, se debe establecer en False\n",
        "    min_detection_confidence=0.5,\n",
        "    min_tracking_confidence=0.5\n",
        ")"
      ],
      "metadata": {
        "id": "lS73SnKBz6Br"
      },
      "execution_count": null,
      "outputs": []
    },
    {
      "cell_type": "code",
      "source": [
        "# Para imagen:\n",
        "image = cv2.imread(\"Foto.jpg\")  # Reemplaza con la ruta a tu imagen\n",
        "\n",
        "# Para video:\n",
        "#cap = cv2.VideoCapture(\"ruta/a/tu/video.mp4\")  # Reemplaza con la ruta a tu video"
      ],
      "metadata": {
        "id": "fMT0DD8S6Haj"
      },
      "execution_count": null,
      "outputs": []
    },
    {
      "cell_type": "code",
      "source": [
        "# Para imagen:\n",
        "all_features = extract_all_features(image)\n",
        "print(all_features)\n",
        "# Para video:\n",
        "#while cap.isOpened():\n",
        "#    ret, frame = cap.read()\n",
        "#    if not ret:\n",
        "#        bre\n",
        "#    all_features = extract_all_features(frame)\n",
        "#    print(all_featureS)\n",
        "#"
      ],
      "metadata": {
        "colab": {
          "base_uri": "https://localhost:8080/"
        },
        "id": "Qz9cwbN26PYj",
        "outputId": "d6f0e6b4-0c9b-4dc8-ea6b-1d4f1ab7230c"
      },
      "execution_count": null,
      "outputs": [
        {
          "output_type": "stream",
          "name": "stdout",
          "text": [
            "Landmarks faciales detectados\n",
            "Landmarks corporales detectados\n",
            "{'SyHeadOrientation': -163.7268593241421, 'SxHeadOrientation': 23.678603669355976, 'SzHeadOrientation': 4.75691248998589, 'SmouthOpen': 0.0001746321494954842, 'SleftEyeClosed': True, 'SrightEyeClosed': True, 'SleftEyebrowLowered': False, 'SleftEyebrowRaised': True, 'SrightEyebrowLowered': False, 'SrightEyebrowRaised': True, 'SgazeDirectionForward': False, 'SgazeDirectionLeft': True, 'SgazeDirectionRight': False, 'SAu01_InnerBrowRaiser': -0.01906667649745941, 'SAu02_OuterBrowRaiser': -0.0075949132442474365, 'SAu04_BrowLowerer': 0.0075949132442474365, 'SAu05_UpperLidRaiser': 0.014454030238310019, 'SAu06_CheekRaiser': 0.025208808801509643, 'SAu07_LidTightener': 0.02927173806229709, 'SAu09_NoseWrinkler': 0.027249394294342782, 'SAu10_UpperLipRaiser': 0.007216602563858032, 'SAu12_LipCornerPuller': 0.04794940981162212, 'SAu14_Dimpler': 0.05239957953749507, 'SAu15_LipCornerDepressor': -0.0071180760860443115, 'SAu17_ChinRaiser': 0.024761546919271994, 'SAu20_LipStretcher': 0.06778956851514524, 'SAu23_LipTightener': 0.0001746321494954842, 'SAu24_LipPressor': 0.018642351218010552, 'SAu25_LipsPart': 0.0001746321494954842, 'SAu26_JawDrop': 0.07497193716198695, 'SAu27_MouthStretch': 0.05239957953749507, 'SAu43_EyesClosed': True, 'body_avgDepth': -0.5720498561859131, 'body_leftShoulderAngle': 165.37056868042262, 'body_rightShoulderAngle': 156.36174623457342, 'body_leanAngle': 82.51544894473577, 'body_HipCenter_Spine-Spine_ShoulderCenter': 88.97242551413191, 'body_Spine_ShoulderCenter-ShoulderCenter_Head': 101.36535965361867, 'body_Spine_ShoulderCenter-ShoulderCenter_ShoulderLeft': 79.86523211060874, 'body_Spine_ShoulderCenter-ShoulderCenter_ShoulderRight': 88.31879568262057, 'body_ShoulderCenter_ShoulderLeft-ShoulderLeft_ElbowLeft': 43.32816373837805, 'body_ShoulderLeft_ElbowLeft-ElbowLeft_WristLeft': 6.095677553540408, 'body_ShoulderCenter_ShoulderRight-ShoulderRight_ElbowRight': 47.10448959707581, 'body_ElbowLeft_WristLeft-WristLeft_HandLeft': 76.38355213080018, 'body_ShoulderRight_ElbowRight-ElbowRight_WristRight': 11.577382905659217, 'body_ElbowRight_WristRight-WristRight_HandRight': 67.81305579091962, 'body_zx_angle_HipCenter_Spine': -75.57385900427622, 'body_xy_angle_HipCenter_Spine': -85.77845520771305, 'body_yz_angle_HipCenter_Spine': -163.98964707670748, 'body_zx_angle_Spine_ShoulderCenter': -174.63435585596793, 'body_xy_angle_Spine_ShoulderCenter': -176.2416521866468, 'body_yz_angle_Spine_ShoulderCenter': -124.96899130749091, 'body_zx_angle_ShoulderCenter_Head': -67.97643731125635, 'body_xy_angle_ShoulderCenter_Head': -61.786587233653634, 'body_yz_angle_ShoulderCenter_Head': -127.015350071058, 'body_zx_angle_ShoulderCenter_ShoulderLeft': 5.365644144032081, 'body_xy_angle_ShoulderCenter_ShoulderLeft': 3.7583478133531916, 'body_yz_angle_ShoulderCenter_ShoulderLeft': 55.0310086925091, 'body_zx_angle_ShoulderCenter_ShoulderRight': -174.63435585596793, 'body_xy_angle_ShoulderCenter_ShoulderRight': -176.2416521866468, 'body_yz_angle_ShoulderCenter_ShoulderRight': -124.96899130749091, 'body_zx_angle_ShoulderLeft_ElbowLeft': 41.68178326055519, 'body_xy_angle_ShoulderLeft_ElbowLeft': 84.03896275902052, 'body_yz_angle_ShoulderLeft_ElbowLeft': 5.311656247067003, 'body_zx_angle_ElbowLeft_WristLeft': -84.79045188742005, 'body_xy_angle_ElbowLeft_WristLeft': 85.91367118539529, 'body_yz_angle_ElbowLeft_WristLeft': -38.08077310908284, 'body_zx_angle_WristLeft_HandLeft': -74.94129887484044, 'body_xy_angle_WristLeft_HandLeft': 78.82766448462134, 'body_yz_angle_WristLeft_HandLeft': -36.28180909166002, 'body_zx_angle_ShoulderRight_ElbowRight': 174.58546541996301, 'body_xy_angle_ShoulderRight_ElbowRight': 95.49575822727316, 'body_yz_angle_ShoulderRight_ElbowRight': 0.5224976922569469, 'body_zx_angle_ElbowRight_WristRight': -87.8410432225341, 'body_xy_angle_ElbowRight_WristRight': 87.75579757155339, 'body_yz_angle_ElbowRight_WristRight': -46.11020587754397, 'body_zx_angle_WristRight_HandRight': -97.39545767086229, 'body_xy_angle_WristRight_HandRight': 95.41931539853019, 'body_yz_angle_WristRight_HandRight': -36.162941986351846}\n"
          ]
        }
      ]
    },
    {
      "cell_type": "code",
      "source": [
        "len(all_features)"
      ],
      "metadata": {
        "colab": {
          "base_uri": "https://localhost:8080/"
        },
        "id": "txSuj3En_AOK",
        "outputId": "d05b9ce9-409c-4515-e9e5-d2e1163daa18"
      },
      "execution_count": null,
      "outputs": [
        {
          "output_type": "execute_result",
          "data": {
            "text/plain": [
              "79"
            ]
          },
          "metadata": {},
          "execution_count": 14
        }
      ]
    },
    {
      "cell_type": "code",
      "source": [
        "# Contar features faciales y corporales\n",
        "num_facial_features = 0\n",
        "num_body_features = 0\n",
        "\n",
        "for feature_name in all_features.keys():\n",
        "    if feature_name.startswith(\"body_\"):\n",
        "        num_body_features += 1\n",
        "    else:\n",
        "        num_facial_features += 1\n",
        "\n",
        "# Imprimir el número de features faciales y corporales\n",
        "print(f\"Número de features faciales: {num_facial_features}\")\n",
        "print(f\"Número de features corporales: {num_body_features}\")"
      ],
      "metadata": {
        "colab": {
          "base_uri": "https://localhost:8080/"
        },
        "id": "GErsnC4wAI6R",
        "outputId": "f6caf317-32bd-436f-ec26-b34cb4056e6c"
      },
      "execution_count": null,
      "outputs": [
        {
          "output_type": "stream",
          "name": "stdout",
          "text": [
            "Número de features faciales: 32\n",
            "Número de features corporales: 47\n"
          ]
        }
      ]
    }
  ]
}