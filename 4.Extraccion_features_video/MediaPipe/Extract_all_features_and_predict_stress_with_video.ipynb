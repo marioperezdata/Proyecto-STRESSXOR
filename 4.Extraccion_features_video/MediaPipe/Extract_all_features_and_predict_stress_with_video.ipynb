{
  "nbformat": 4,
  "nbformat_minor": 0,
  "metadata": {
    "colab": {
      "provenance": []
    },
    "kernelspec": {
      "name": "python3",
      "display_name": "Python 3"
    },
    "language_info": {
      "name": "python"
    }
  },
  "cells": [
    {
      "cell_type": "code",
      "source": [
        "#Instlar dependencias. !Muy importante!: Reiniciar entorno de ejecución despues de hacer las instalaciones si ejecutas en colab.\n",
        "!pip install numpy==1.26.1\n",
        "!pip install torch\n",
        "!pip install mediapipe"
      ],
      "metadata": {
        "colab": {
          "base_uri": "https://localhost:8080/"
        },
        "id": "Xk4hn7nn92WY",
        "outputId": "58c90ab8-0d1c-49c1-ef30-0c758a8b0cbd"
      },
      "execution_count": 1,
      "outputs": [
        {
          "output_type": "stream",
          "name": "stdout",
          "text": [
            "Requirement already satisfied: numpy==1.26.1 in /usr/local/lib/python3.11/dist-packages (1.26.1)\n",
            "Requirement already satisfied: torch in /usr/local/lib/python3.11/dist-packages (2.6.0+cu124)\n",
            "Requirement already satisfied: filelock in /usr/local/lib/python3.11/dist-packages (from torch) (3.18.0)\n",
            "Requirement already satisfied: typing-extensions>=4.10.0 in /usr/local/lib/python3.11/dist-packages (from torch) (4.12.2)\n",
            "Requirement already satisfied: networkx in /usr/local/lib/python3.11/dist-packages (from torch) (3.4.2)\n",
            "Requirement already satisfied: jinja2 in /usr/local/lib/python3.11/dist-packages (from torch) (3.1.6)\n",
            "Requirement already satisfied: fsspec in /usr/local/lib/python3.11/dist-packages (from torch) (2025.3.0)\n",
            "Requirement already satisfied: nvidia-cuda-nvrtc-cu12==12.4.127 in /usr/local/lib/python3.11/dist-packages (from torch) (12.4.127)\n",
            "Requirement already satisfied: nvidia-cuda-runtime-cu12==12.4.127 in /usr/local/lib/python3.11/dist-packages (from torch) (12.4.127)\n",
            "Requirement already satisfied: nvidia-cuda-cupti-cu12==12.4.127 in /usr/local/lib/python3.11/dist-packages (from torch) (12.4.127)\n",
            "Requirement already satisfied: nvidia-cudnn-cu12==9.1.0.70 in /usr/local/lib/python3.11/dist-packages (from torch) (9.1.0.70)\n",
            "Requirement already satisfied: nvidia-cublas-cu12==12.4.5.8 in /usr/local/lib/python3.11/dist-packages (from torch) (12.4.5.8)\n",
            "Requirement already satisfied: nvidia-cufft-cu12==11.2.1.3 in /usr/local/lib/python3.11/dist-packages (from torch) (11.2.1.3)\n",
            "Requirement already satisfied: nvidia-curand-cu12==10.3.5.147 in /usr/local/lib/python3.11/dist-packages (from torch) (10.3.5.147)\n",
            "Requirement already satisfied: nvidia-cusolver-cu12==11.6.1.9 in /usr/local/lib/python3.11/dist-packages (from torch) (11.6.1.9)\n",
            "Requirement already satisfied: nvidia-cusparse-cu12==12.3.1.170 in /usr/local/lib/python3.11/dist-packages (from torch) (12.3.1.170)\n",
            "Requirement already satisfied: nvidia-cusparselt-cu12==0.6.2 in /usr/local/lib/python3.11/dist-packages (from torch) (0.6.2)\n",
            "Requirement already satisfied: nvidia-nccl-cu12==2.21.5 in /usr/local/lib/python3.11/dist-packages (from torch) (2.21.5)\n",
            "Requirement already satisfied: nvidia-nvtx-cu12==12.4.127 in /usr/local/lib/python3.11/dist-packages (from torch) (12.4.127)\n",
            "Requirement already satisfied: nvidia-nvjitlink-cu12==12.4.127 in /usr/local/lib/python3.11/dist-packages (from torch) (12.4.127)\n",
            "Requirement already satisfied: triton==3.2.0 in /usr/local/lib/python3.11/dist-packages (from torch) (3.2.0)\n",
            "Requirement already satisfied: sympy==1.13.1 in /usr/local/lib/python3.11/dist-packages (from torch) (1.13.1)\n",
            "Requirement already satisfied: mpmath<1.4,>=1.1.0 in /usr/local/lib/python3.11/dist-packages (from sympy==1.13.1->torch) (1.3.0)\n",
            "Requirement already satisfied: MarkupSafe>=2.0 in /usr/local/lib/python3.11/dist-packages (from jinja2->torch) (3.0.2)\n",
            "Requirement already satisfied: mediapipe in /usr/local/lib/python3.11/dist-packages (0.10.21)\n",
            "Requirement already satisfied: absl-py in /usr/local/lib/python3.11/dist-packages (from mediapipe) (1.4.0)\n",
            "Requirement already satisfied: attrs>=19.1.0 in /usr/local/lib/python3.11/dist-packages (from mediapipe) (25.3.0)\n",
            "Requirement already satisfied: flatbuffers>=2.0 in /usr/local/lib/python3.11/dist-packages (from mediapipe) (25.2.10)\n",
            "Requirement already satisfied: jax in /usr/local/lib/python3.11/dist-packages (from mediapipe) (0.5.2)\n",
            "Requirement already satisfied: jaxlib in /usr/local/lib/python3.11/dist-packages (from mediapipe) (0.5.1)\n",
            "Requirement already satisfied: matplotlib in /usr/local/lib/python3.11/dist-packages (from mediapipe) (3.10.0)\n",
            "Requirement already satisfied: numpy<2 in /usr/local/lib/python3.11/dist-packages (from mediapipe) (1.26.1)\n",
            "Requirement already satisfied: opencv-contrib-python in /usr/local/lib/python3.11/dist-packages (from mediapipe) (4.11.0.86)\n",
            "Requirement already satisfied: protobuf<5,>=4.25.3 in /usr/local/lib/python3.11/dist-packages (from mediapipe) (4.25.6)\n",
            "Requirement already satisfied: sounddevice>=0.4.4 in /usr/local/lib/python3.11/dist-packages (from mediapipe) (0.5.1)\n",
            "Requirement already satisfied: sentencepiece in /usr/local/lib/python3.11/dist-packages (from mediapipe) (0.2.0)\n",
            "Requirement already satisfied: CFFI>=1.0 in /usr/local/lib/python3.11/dist-packages (from sounddevice>=0.4.4->mediapipe) (1.17.1)\n",
            "Requirement already satisfied: ml_dtypes>=0.4.0 in /usr/local/lib/python3.11/dist-packages (from jax->mediapipe) (0.4.1)\n",
            "Requirement already satisfied: opt_einsum in /usr/local/lib/python3.11/dist-packages (from jax->mediapipe) (3.4.0)\n",
            "Requirement already satisfied: scipy>=1.11.1 in /usr/local/lib/python3.11/dist-packages (from jax->mediapipe) (1.14.1)\n",
            "Requirement already satisfied: contourpy>=1.0.1 in /usr/local/lib/python3.11/dist-packages (from matplotlib->mediapipe) (1.3.1)\n",
            "Requirement already satisfied: cycler>=0.10 in /usr/local/lib/python3.11/dist-packages (from matplotlib->mediapipe) (0.12.1)\n",
            "Requirement already satisfied: fonttools>=4.22.0 in /usr/local/lib/python3.11/dist-packages (from matplotlib->mediapipe) (4.56.0)\n",
            "Requirement already satisfied: kiwisolver>=1.3.1 in /usr/local/lib/python3.11/dist-packages (from matplotlib->mediapipe) (1.4.8)\n",
            "Requirement already satisfied: packaging>=20.0 in /usr/local/lib/python3.11/dist-packages (from matplotlib->mediapipe) (24.2)\n",
            "Requirement already satisfied: pillow>=8 in /usr/local/lib/python3.11/dist-packages (from matplotlib->mediapipe) (11.1.0)\n",
            "Requirement already satisfied: pyparsing>=2.3.1 in /usr/local/lib/python3.11/dist-packages (from matplotlib->mediapipe) (3.2.1)\n",
            "Requirement already satisfied: python-dateutil>=2.7 in /usr/local/lib/python3.11/dist-packages (from matplotlib->mediapipe) (2.8.2)\n",
            "Requirement already satisfied: pycparser in /usr/local/lib/python3.11/dist-packages (from CFFI>=1.0->sounddevice>=0.4.4->mediapipe) (2.22)\n",
            "Requirement already satisfied: six>=1.5 in /usr/local/lib/python3.11/dist-packages (from python-dateutil>=2.7->matplotlib->mediapipe) (1.17.0)\n"
          ]
        }
      ]
    },
    {
      "cell_type": "code",
      "source": [
        "import cv2\n",
        "import mediapipe as mp\n",
        "import numpy as np\n",
        "import pandas as pd\n",
        "from sklearn.preprocessing import StandardScaler\n",
        "import torch\n",
        "import torch.nn as nn\n"
      ],
      "metadata": {
        "id": "C4vyZ9Cv7LXF"
      },
      "execution_count": 2,
      "outputs": []
    },
    {
      "cell_type": "markdown",
      "source": [
        "# Extracción caracteristicas de un video"
      ],
      "metadata": {
        "id": "b7aUpugtjbwq"
      }
    },
    {
      "cell_type": "code",
      "source": [
        "# Funciones\n",
        "###Face####\n",
        "# Function to calculate distance between landmarks\n",
        "def distance(point1, point2):\n",
        "    return np.sqrt((point1.x - point2.x)**2 + (point1.y - point2.y)**2)\n",
        "\n",
        "# Function to estimate head pose angles\n",
        "def get_head_pose(face_landmarks, image_width, image_height):\n",
        "    # 3D model points (from MediaPipe documentation)\n",
        "    model_points = np.array([\n",
        "        (0.0, 0.0, 0.0),             # Nose tip\n",
        "        (0.0, -330.0, -65.0),        # Chin\n",
        "        (-225.0, 170.0, -135.0),     # Left eye left corner\n",
        "        (225.0, 170.0, -135.0),      # Right eye right corner\n",
        "        (-150.0, -150.0, -125.0),    # Left Mouth corner\n",
        "        (150.0, -150.0, -125.0)      # Right mouth corner\n",
        "    ])\n",
        "\n",
        "    # 2D image points (from detected landmarks)\n",
        "    image_points = np.array([\n",
        "        (face_landmarks.landmark[1].x * image_width, face_landmarks.landmark[1].y * image_height),\n",
        "        (face_landmarks.landmark[152].x * image_width, face_landmarks.landmark[152].y * image_height),\n",
        "        (face_landmarks.landmark[33].x * image_width, face_landmarks.landmark[33].y * image_height),\n",
        "        (face_landmarks.landmark[263].x * image_width, face_landmarks.landmark[263].y * image_height),\n",
        "        (face_landmarks.landmark[61].x * image_width, face_landmarks.landmark[61].y * image_height),\n",
        "        (face_landmarks.landmark[291].x * image_width, face_landmarks.landmark[291].y * image_height)\n",
        "    ], dtype=\"double\")\n",
        "\n",
        "    # Camera internals\n",
        "    focal_length = image_width\n",
        "    center = (image_width / 2, image_height / 2)\n",
        "    camera_matrix = np.array([[focal_length, 0, center[0]],\n",
        "                             [0, focal_length, center[1]],\n",
        "                             [0, 0, 1]], dtype=\"double\")\n",
        "\n",
        "    # Solve for head pose\n",
        "    dist_coeffs = np.zeros((4, 1))  # Assuming no lens distortion\n",
        "    (success, rotation_vector, translation_vector) = cv2.solvePnP(model_points, image_points,\n",
        "                                                                  camera_matrix, dist_coeffs,\n",
        "                                                                  flags=cv2.SOLVEPNP_ITERATIVE)\n",
        "\n",
        "    # Get rotation angles (in degrees)\n",
        "    rotation_mat, _ = cv2.Rodrigues(rotation_vector)\n",
        "    pose_mat = cv2.hconcat((rotation_mat, translation_vector))\n",
        "    _, _, _, _, _, _, euler_angles = cv2.decomposeProjectionMatrix(pose_mat)\n",
        "    pitch, yaw, roll = euler_angles.flatten()\n",
        "\n",
        "    return pitch, yaw, roll\n",
        "\n",
        "###Body###\n",
        "\n",
        "def calculate_bone_orientation(landmark1, landmark2):\n",
        "    \"\"\"Calcula la orientación de un hueso en los planos ZX, XY, YZ.\"\"\"\n",
        "    v = np.array([landmark2.x - landmark1.x, landmark2.y - landmark1.y, landmark2.z - landmark1.z])\n",
        "\n",
        "    # Orientación en el plano ZX\n",
        "    zx_angle = np.degrees(np.arctan2(v[2], v[0]))\n",
        "\n",
        "    # Orientación en el plano XY\n",
        "    xy_angle = np.degrees(np.arctan2(v[1], v[0]))\n",
        "\n",
        "    # Orientación en el plano YZ\n",
        "    yz_angle = np.degrees(np.arctan2(v[2], v[1]))\n",
        "\n",
        "    return zx_angle, xy_angle, yz_angle\n",
        "\n",
        "def calculate_angle(landmark1, landmark2, landmark3):\n",
        "    \"\"\"Calcula el ángulo entre tres puntos de referencia.\"\"\"\n",
        "    v1 = np.array([landmark2.x - landmark1.x, landmark2.y - landmark1.y, landmark2.z - landmark1.z])\n",
        "    v2 = np.array([landmark3.x - landmark2.x, landmark3.y - landmark2.y, landmark3.z - landmark2.z])\n",
        "\n",
        "    v1_u = v1 / np.linalg.norm(v1)\n",
        "    v2_u = v2 / np.linalg.norm(v2)\n",
        "\n",
        "    return np.degrees(np.arccos(np.clip(np.dot(v1_u, v2_u), -1.0, 1.0)))\n",
        "\n",
        "def calculate_bone_orientation(landmark1, landmark2):\n",
        "    \"\"\"Calcula la orientación de un hueso en los planos ZX, XY, YZ.\"\"\"\n",
        "    v = np.array([landmark2.x - landmark1.x, landmark2.y - landmark1.y, landmark2.z - landmark1.z])\n",
        "\n",
        "    # Orientación en el plano ZX\n",
        "    zx_angle = np.degrees(np.arctan2(v[2], v[0]))\n",
        "\n",
        "    # Orientación en el plano XY\n",
        "    xy_angle = np.degrees(np.arctan2(v[1], v[0]))\n",
        "\n",
        "    # Orientación en el plano YZ\n",
        "    yz_angle = np.degrees(np.arctan2(v[2], v[1]))\n",
        "\n",
        "    return zx_angle, xy_angle, yz_angle\n",
        "\n",
        "def calculate_midpoint(landmark1, landmark2):\n",
        "    return mp.solutions.pose.PoseLandmark(\n",
        "        x=(landmark1.x + landmark2.x) / 2,\n",
        "        y=(landmark1.y + landmark2.y) / 2,\n",
        "        z=(landmark1.z + landmark2.z) / 2,\n",
        "    )\n",
        "\n",
        "def calculate_midpoint(landmark1, landmark2):\n",
        "    return mp.solutions.pose.PoseLandmark(\n",
        "        x=(landmark1.x + landmark2.x) / 2,\n",
        "        y=(landmark1.y + landmark2.y) / 2,\n",
        "        z=(landmark1.z + landmark2.z) / 2,\n",
        "    )\n",
        "def calculate_stdv(landmark1, landmark2):\n",
        "    \"\"\"Calcula la desviación estándar de dos landmarks.\"\"\"\n",
        "    x_values = [landmark1.x, landmark2.x]\n",
        "    y_values = [landmark1.y, landmark2.y]\n",
        "    z_values = [landmark1.z, landmark2.z]\n",
        "\n",
        "    x_stdv = np.std(x_values)\n",
        "    y_stdv = np.std(y_values)\n",
        "    z_stdv = np.std(z_values)\n",
        "\n",
        "    return mp.solutions.pose.PoseLandmark(x=x_stdv, y=y_stdv, z=z_stdv)\n",
        "\n"
      ],
      "metadata": {
        "id": "MddAAx2RzQ-i"
      },
      "execution_count": 3,
      "outputs": []
    },
    {
      "cell_type": "code",
      "source": [
        "###Extractores de features###\n",
        "\n",
        "def extract_facial_features(face_landmarks, image_width, image_height):\n",
        "    \"\"\"Extrae las features faciales de los landmarks.\"\"\"\n",
        "\n",
        "    if face_landmarks:\n",
        "          pitch, yaw, roll = get_head_pose(face_landmarks, image_width, image_height)\n",
        "          mouth_open = distance(face_landmarks.landmark[13], face_landmarks.landmark[14])\n",
        "          left_eye_closed = distance(face_landmarks.landmark[159], face_landmarks.landmark[145]) < 0.02\n",
        "          right_eye_closed = distance(face_landmarks.landmark[386], face_landmarks.landmark[374]) < 0.02\n",
        "          left_eyebrow_lowered = face_landmarks.landmark[105].y > face_landmarks.landmark[107].y\n",
        "          left_eyebrow_raised = face_landmarks.landmark[105].y < face_landmarks.landmark[107].y\n",
        "          right_eyebrow_lowered = face_landmarks.landmark[334].y > face_landmarks.landmark[336].y\n",
        "          right_eyebrow_raised = face_landmarks.landmark[334].y < face_landmarks.landmark[336].y\n",
        "          left_eye_center_x = (face_landmarks.landmark[159].x + face_landmarks.landmark[145].x) / 2\n",
        "          right_eye_center_x = (face_landmarks.landmark[386].x + face_landmarks.landmark[374].x) / 2\n",
        "          gaze_direction_forward = abs(left_eye_center_x - right_eye_center_x) < 0.05\n",
        "          gaze_direction_left = left_eye_center_x < right_eye_center_x\n",
        "          gaze_direction_right = left_eye_center_x > right_eye_center_x\n",
        "          au01_inner_brow_raiser = face_landmarks.landmark[66].y - face_landmarks.landmark[27].y\n",
        "          au02_outer_brow_raiser = face_landmarks.landmark[107].y - face_landmarks.landmark[52].y\n",
        "          au04_brow_lowerer = face_landmarks.landmark[52].y - face_landmarks.landmark[107].y\n",
        "          au05_upper_lid_raiser = distance(face_landmarks.landmark[159], face_landmarks.landmark[145])\n",
        "          au06_cheek_raiser = distance(face_landmarks.landmark[127], face_landmarks.landmark[234])\n",
        "          au07_lid_tightener = distance(face_landmarks.landmark[33], face_landmarks.landmark[133])\n",
        "          au09_nose_wrinkler = distance(face_landmarks.landmark[1], face_landmarks.landmark[5])\n",
        "          au10_upper_lip_raiser = face_landmarks.landmark[13].y - face_landmarks.landmark[0].y\n",
        "          au12_lip_corner_puller = distance(face_landmarks.landmark[78], face_landmarks.landmark[308])\n",
        "          au14_dimpler = distance(face_landmarks.landmark[61], face_landmarks.landmark[291])\n",
        "          au15_lip_corner_depressor = face_landmarks.landmark[0].y - face_landmarks.landmark[14].y\n",
        "          au17_chin_raiser = distance(face_landmarks.landmark[152], face_landmarks.landmark[176])\n",
        "          au20_lip_stretcher = distance(face_landmarks.landmark[57], face_landmarks.landmark[287])\n",
        "          au23_lip_tightener = distance(face_landmarks.landmark[13], face_landmarks.landmark[14])\n",
        "          au24_lip_pressor = distance(face_landmarks.landmark[0], face_landmarks.landmark[17])\n",
        "          au25_lips_part = distance(face_landmarks.landmark[13], face_landmarks.landmark[14])\n",
        "          au26_jaw_drop = distance(face_landmarks.landmark[13], face_landmarks.landmark[152])\n",
        "          au27_mouth_stretch = distance(face_landmarks.landmark[61], face_landmarks.landmark[291])\n",
        "          au43_eyes_closed = left_eye_closed and right_eye_closed\n",
        "          features = {\n",
        "              'SyHeadOrientation': pitch,\n",
        "              'SxHeadOrientation': yaw,\n",
        "              'SzHeadOrientation': roll,\n",
        "              'SmouthOpen': mouth_open,\n",
        "              'SleftEyeClosed': left_eye_closed,\n",
        "              'SrightEyeClosed': right_eye_closed,\n",
        "              'SleftEyebrowLowered': left_eyebrow_lowered,\n",
        "              'SleftEyebrowRaised': left_eyebrow_raised,\n",
        "              'SrightEyebrowLowered': right_eyebrow_lowered,\n",
        "              'SrightEyebrowRaised': right_eyebrow_raised,\n",
        "              'SgazeDirectionForward': gaze_direction_forward,\n",
        "              'SgazeDirectionLeft': gaze_direction_left,\n",
        "              'SgazeDirectionRight': gaze_direction_right,\n",
        "              'SAu01_InnerBrowRaiser': au01_inner_brow_raiser,\n",
        "              'SAu02_OuterBrowRaiser': au02_outer_brow_raiser,\n",
        "              'SAu04_BrowLowerer': au04_brow_lowerer,\n",
        "              'SAu05_UpperLidRaiser': au05_upper_lid_raiser,\n",
        "              'SAu06_CheekRaiser': au06_cheek_raiser,\n",
        "              'SAu07_LidTightener': au07_lid_tightener,\n",
        "              'SAu09_NoseWrinkler': au09_nose_wrinkler,\n",
        "              'SAu10_UpperLipRaiser': au10_upper_lip_raiser,\n",
        "              'SAu12_LipCornerPuller': au12_lip_corner_puller,\n",
        "              'SAu14_Dimpler': au14_dimpler,\n",
        "              'SAu15_LipCornerDepressor': au15_lip_corner_depressor,\n",
        "              'SAu17_ChinRaiser': au17_chin_raiser,\n",
        "              'SAu20_LipStretcher': au20_lip_stretcher,\n",
        "              'SAu23_LipTightener': au23_lip_tightener,\n",
        "              'SAu24_LipPressor': au24_lip_pressor,\n",
        "              'SAu25_LipsPart': au25_lips_part,\n",
        "              'SAu26_JawDrop': au26_jaw_drop,\n",
        "              'SAu27_MouthStretch': au27_mouth_stretch,\n",
        "              'SAu43_EyesClosed': au43_eyes_closed\n",
        "          }\n",
        "\n",
        "    return features\n",
        "\n",
        "\n",
        "def extract_body_features(landmarks):\n",
        "    \"\"\"Extrae las características del cuerpo a partir de los puntos de referencia.\"\"\"\n",
        "    features = []\n",
        "\n",
        "    # Distancia\n",
        "    features.append(landmarks[mp_pose.PoseLandmark.NOSE].z)  # avgDepth (aproximación)\n",
        "\n",
        "    # Ángulos articulares\n",
        "    features.append(calculate_angle(landmarks[mp_pose.PoseLandmark.LEFT_HIP], landmarks[mp_pose.PoseLandmark.LEFT_SHOULDER], landmarks[mp_pose.PoseLandmark.LEFT_ELBOW]))  # leftShoulderAngle\n",
        "    features.append(calculate_angle(landmarks[mp_pose.PoseLandmark.RIGHT_HIP], landmarks[mp_pose.PoseLandmark.RIGHT_SHOULDER], landmarks[mp_pose.PoseLandmark.RIGHT_ELBOW]))  # rightShoulderAngle\n",
        "    features.append(calculate_angle(landmarks[mp_pose.PoseLandmark.LEFT_SHOULDER], landmarks[mp_pose.PoseLandmark.LEFT_HIP], landmarks[mp_pose.PoseLandmark.RIGHT_HIP]))  # leanAngle (aproximación)\n",
        "    features.append(calculate_angle(landmarks[mp_pose.PoseLandmark.LEFT_HIP], landmarks[mp_pose.PoseLandmark.LEFT_SHOULDER], landmarks[mp_pose.PoseLandmark.RIGHT_SHOULDER])) # HipCenter_Spine-Spine_ShoulderCenter\n",
        "    features.append(calculate_angle(landmarks[mp_pose.PoseLandmark.LEFT_SHOULDER], landmarks[mp_pose.PoseLandmark.RIGHT_SHOULDER], landmarks[mp_pose.PoseLandmark.NOSE])) # Spine_ShoulderCenter-ShoulderCenter_Head\n",
        "    features.append(calculate_angle(landmarks[mp_pose.PoseLandmark.RIGHT_SHOULDER], landmarks[mp_pose.PoseLandmark.LEFT_SHOULDER], landmarks[mp_pose.PoseLandmark.LEFT_ELBOW])) # Spine_ShoulderCenter-ShoulderCenter_ShoulderLeft\n",
        "    features.append(calculate_angle(landmarks[mp_pose.PoseLandmark.LEFT_SHOULDER], landmarks[mp_pose.PoseLandmark.RIGHT_SHOULDER], landmarks[mp_pose.PoseLandmark.RIGHT_ELBOW])) # Spine_ShoulderCenter-ShoulderCenter_ShoulderRight\n",
        "    features.append(calculate_angle(landmarks[mp_pose.PoseLandmark.LEFT_SHOULDER], landmarks[mp_pose.PoseLandmark.LEFT_ELBOW], landmarks[mp_pose.PoseLandmark.LEFT_WRIST])) # ShoulderCenter_ShoulderLeft-ShoulderLeft_ElbowLeft\n",
        "    features.append(calculate_angle(landmarks[mp_pose.PoseLandmark.LEFT_ELBOW], landmarks[mp_pose.PoseLandmark.LEFT_WRIST], landmarks[mp_pose.PoseLandmark.LEFT_PINKY])) # ShoulderLeft_ElbowLeft-ElbowLeft_WristLeft\n",
        "    features.append(calculate_angle(landmarks[mp_pose.PoseLandmark.RIGHT_SHOULDER], landmarks[mp_pose.PoseLandmark.RIGHT_ELBOW], landmarks[mp_pose.PoseLandmark.RIGHT_WRIST])) # ShoulderCenter_ShoulderRight-ShoulderRight_ElbowRight\n",
        "    features.append(calculate_angle(landmarks[mp_pose.PoseLandmark.LEFT_WRIST], landmarks[mp_pose.PoseLandmark.LEFT_PINKY], landmarks[mp_pose.PoseLandmark.LEFT_INDEX])) # ElbowLeft_WristLeft-WristLeft_HandLeft (aproximación)\n",
        "    features.append(calculate_angle(landmarks[mp_pose.PoseLandmark.RIGHT_SHOULDER], landmarks[mp_pose.PoseLandmark.RIGHT_ELBOW], landmarks[mp_pose.PoseLandmark.RIGHT_WRIST])) # ShoulderCenter_ShoulderRight-ShoulderRight_ElbowRight\n",
        "    features.append(calculate_angle(landmarks[mp_pose.PoseLandmark.RIGHT_ELBOW], landmarks[mp_pose.PoseLandmark.RIGHT_WRIST], landmarks[mp_pose.PoseLandmark.RIGHT_PINKY])) # ShoulderRight_ElbowRight-ElbowRight_WristRight\n",
        "    features.append(calculate_angle(landmarks[mp_pose.PoseLandmark.RIGHT_WRIST], landmarks[mp_pose.PoseLandmark.RIGHT_PINKY], landmarks[mp_pose.PoseLandmark.RIGHT_INDEX])) # ElbowRight_WristRight-WristRight_HandRight (aproximación)\n",
        "\n",
        "\n",
        "    # Orientaciones óseas\n",
        "    bones = [\n",
        "        (mp_pose.PoseLandmark.LEFT_HIP, mp_pose.PoseLandmark.LEFT_SHOULDER),  # HipCenter_Spine\n",
        "        (mp_pose.PoseLandmark.LEFT_SHOULDER, mp_pose.PoseLandmark.RIGHT_SHOULDER),  # Spine_ShoulderCenter\n",
        "        (mp_pose.PoseLandmark.RIGHT_SHOULDER, mp_pose.PoseLandmark.NOSE),  # ShoulderCenter_Head\n",
        "        (mp_pose.PoseLandmark.RIGHT_SHOULDER, mp_pose.PoseLandmark.LEFT_SHOULDER),  # ShoulderCenter_ShoulderLeft\n",
        "        (mp_pose.PoseLandmark.LEFT_SHOULDER, mp_pose.PoseLandmark.RIGHT_SHOULDER),  # ShoulderCenter_ShoulderRight\n",
        "        (mp_pose.PoseLandmark.LEFT_SHOULDER, mp_pose.PoseLandmark.LEFT_ELBOW),  # ShoulderLeft_ElbowLeft\n",
        "        (mp_pose.PoseLandmark.LEFT_ELBOW, mp_pose.PoseLandmark.LEFT_WRIST),  # ElbowLeft_WristLeft\n",
        "        (mp_pose.PoseLandmark.LEFT_WRIST, mp_pose.PoseLandmark.LEFT_PINKY),  # WristLeft_HandLeft\n",
        "        (mp_pose.PoseLandmark.RIGHT_SHOULDER, mp_pose.PoseLandmark.RIGHT_ELBOW),  # ShoulderRight_ElbowRight\n",
        "        (mp_pose.PoseLandmark.RIGHT_ELBOW, mp_pose.PoseLandmark.RIGHT_WRIST),  # ElbowRight_WristRight\n",
        "        (mp_pose.PoseLandmark.RIGHT_WRIST, mp_pose.PoseLandmark.RIGHT_PINKY),  # WristRight_HandRight\n",
        "    ]\n",
        "    for landmark1_index, landmark2_index in bones:\n",
        "        zx_angle, xy_angle, yz_angle = calculate_bone_orientation(landmarks[landmark1_index], landmarks[landmark2_index])\n",
        "        features.extend([zx_angle, xy_angle, yz_angle])\n",
        "\n",
        "    return features"
      ],
      "metadata": {
        "id": "7zzFdBEpzXHc"
      },
      "execution_count": 4,
      "outputs": []
    },
    {
      "cell_type": "code",
      "source": [
        "###Extrator total de features###\n",
        "\n",
        "def extract_all_features(image, face_mesh, pose):\n",
        "    \"\"\"Extrae las features faciales y corporales de una imagen.\"\"\"\n",
        "\n",
        "    # Convertir la imagen a RGB\n",
        "    image_rgb = cv2.cvtColor(image, cv2.COLOR_BGR2RGB)\n",
        "\n",
        "    # Procesar la imagen con los extractores de features\n",
        "    results_face_mesh = face_mesh.process(image_rgb)\n",
        "    results_pose = pose.process(image_rgb)\n",
        "\n",
        "    # Inicializar las features\n",
        "    all_features = {}\n",
        "\n",
        "    if results_face_mesh.multi_face_landmarks:\n",
        "        face_landmarks = results_face_mesh.multi_face_landmarks[0]\n",
        "        facial_features = extract_facial_features(face_landmarks, image.shape[1], image.shape[0])\n",
        "        all_features.update(facial_features)\n",
        "\n",
        "    # Extraer features corporales\n",
        "    if results_pose.pose_landmarks:\n",
        "        body_landmarks = results_pose.pose_landmarks.landmark\n",
        "        body_posture_features = extract_body_features(body_landmarks)  # Usar la función extract_features del segundo extractor\n",
        "        # Agregar las features corporales al diccionario all_features\n",
        "        all_features.update({'body_' + k: v for k, v in zip(['avgDepth', 'leftShoulderAngle', 'rightShoulderAngle', 'leanAngle', 'HipCenter_SpineSpine_ShoulderCenter', 'Spine_ShoulderCenterShoulderCenter_Head', 'Spine_ShoulderCenterShoulderCenter_ShoulderLeft', 'Spine_ShoulderCenterShoulderCenter_ShoulderRight', 'ShoulderCenter_ShoulderLeftShoulderLeft_ElbowLeft', 'ShoulderLeft_ElbowLeftElbowLeft_WristLeft', 'ShoulderCenter_ShoulderRightShoulderRight_ElbowRight', 'ElbowLeft_WristLeftWristLeft_HandLeft', 'ShoulderCenter_ShoulderRightShoulderRight_ElbowRight', 'ShoulderRight_ElbowRightElbowRight_WristRight', 'ElbowRight_WristRightWristRight_HandRight', 'HipCenter_SpinePlaneZXAxisX', 'HipCenter_SpinePlaneXYAxisY', 'HipCenter_SpinePlaneYZAxisZ', 'Spine_ShoulderCenterPlaneZXAxisX', 'Spine_ShoulderCenterPlaneXYAxisY', 'Spine_ShoulderCenterPlaneYZAxisZ', 'ShoulderCenter_HeadPlaneZXAxisX', 'ShoulderCenter_HeadPlaneXYAxisY', 'ShoulderCenter_HeadPlaneYZAxisZ', 'ShoulderCenter_ShoulderLeftPlaneZXAxisX', 'ShoulderCenter_ShoulderLeftPlaneXYAxisY', 'ShoulderCenter_ShoulderLeftPlaneYZAxisZavg', 'ShoulderCenter_ShoulderRightPlaneZXAxisXavg', 'ShoulderCenter_ShoulderRightPlaneXYAxisY', 'ShoulderCenter_ShoulderRightPlaneYZAxisZ', 'ShoulderLeft_ElbowLeftPlaneZXAxisX', 'ShoulderLeft_ElbowLeftPlaneXYAxisY', 'ShoulderLeft_ElbowLeftPlaneYZAxisZ', 'ElbowLeft_WristLeftPlaneZXAxisX', 'ElbowLeft_WristLeftPlaneXYAxisY', 'ElbowLeft_WristLeftPlaneYZAxisZ', 'WristLeft_HandLeftPlaneZXAxisX', 'WristLeft_HandLeftPlaneXYAxisY', 'WristLeft_HandLeftPlaneYZAxisZ', 'ShoulderRight_ElbowRightPlaneZXAxisX', 'ShoulderRight_ElbowRightPlaneXYAxisY', 'ShoulderRight_ElbowRightPlaneYZAxisZ', 'ElbowRight_WristRightPlaneZXAxisX', 'ElbowRight_WristRightPlaneXYAxisY', 'ElbowRight_WristRightPlaneYZAxisZ', 'WristRight_HandRightPlaneZXAxisX', 'WristRight_HandRightPlaneXYAxisY', 'WristRight_HandRightKinectZAxis'], body_posture_features)})  # Agregar prefijo 'body_' a las claves\n",
        "        all_features = {k: (1 if v is True else 0) if isinstance(v, bool) else v for k, v in all_features.items()}\n",
        "    return all_features"
      ],
      "metadata": {
        "id": "mgKb2Jiq4tV2"
      },
      "execution_count": 5,
      "outputs": []
    },
    {
      "cell_type": "code",
      "source": [],
      "metadata": {
        "id": "GsoBKD5Jdipb"
      },
      "execution_count": 5,
      "outputs": []
    },
    {
      "cell_type": "markdown",
      "source": [
        "1. Importar las bibliotecas necesarias:"
      ],
      "metadata": {
        "id": "jwlG5veNz6Z1"
      }
    },
    {
      "cell_type": "code",
      "source": [
        "#import cv2\n",
        "#import mediapipe as mp\n",
        "#import numpy as np"
      ],
      "metadata": {
        "id": "Lt_0shYGz6Ea"
      },
      "execution_count": 6,
      "outputs": []
    },
    {
      "cell_type": "markdown",
      "source": [
        "2. Inicializar los extractores de features:"
      ],
      "metadata": {
        "id": "9kJ-8T9o0ABr"
      }
    },
    {
      "cell_type": "code",
      "source": [
        "mp_face_mesh = mp.solutions.face_mesh\n",
        "mp_pose = mp.solutions.pose\n",
        "\n",
        "face_mesh = mp_face_mesh.FaceMesh(\n",
        "    max_num_faces=1,\n",
        "    refine_landmarks=True,\n",
        "    min_detection_confidence=0.5,\n",
        "    min_tracking_confidence=0.5\n",
        ")\n",
        "\n",
        "pose = mp_pose.Pose(\n",
        "    static_image_mode=False,  # Para video, se debe establecer en False\n",
        "    min_detection_confidence=0.5,\n",
        "    min_tracking_confidence=0.5\n",
        ")"
      ],
      "metadata": {
        "id": "lS73SnKBz6Br"
      },
      "execution_count": 7,
      "outputs": []
    },
    {
      "cell_type": "code",
      "source": [
        "# Para imagen:\n",
        "#image = cv2.imread(\"Foto.jpg\")  # Reemplaza con la ruta a tu imagen\n",
        "\n",
        "# Para video:\n",
        "cap = cv2.VideoCapture(\"Video.mp4\")  # Reemplaza con la ruta a tu video\n",
        "FPS = cap.get(cv2.CAP_PROP_FPS)  # Get frames per second"
      ],
      "metadata": {
        "id": "fMT0DD8S6Haj"
      },
      "execution_count": 43,
      "outputs": []
    },
    {
      "cell_type": "code",
      "source": [
        "# Para imagen:\n",
        "#all_features = extract_all_features(image)\n",
        "#print(all_features)\n",
        "# Para video:\n",
        "all_frames_features = []\n",
        "\n",
        "while cap.isOpened():\n",
        "    ret, frame = cap.read()\n",
        "    if not ret:\n",
        "        break\n",
        "    all_features = extract_all_features(frame, face_mesh, pose)\n",
        "    all_frames_features.append(all_features)\n",
        "\n",
        "cap.release()  # Release the video capture object\n",
        "\n",
        "features_df = pd.DataFrame(all_frames_features)"
      ],
      "metadata": {
        "id": "Qz9cwbN26PYj"
      },
      "execution_count": 44,
      "outputs": []
    },
    {
      "cell_type": "code",
      "source": [
        "# Calculate mean and std for each minute\n",
        "minute_data = []\n",
        "for minute in range(int(len(features_df) / (FPS * 1)) + 1):  # Iterate over minutes\n",
        "    start_frame = int(minute * FPS * 1)  # Convert to int\n",
        "    end_frame = int((minute + 1) * FPS * 1)  # Convert to int\n",
        "    minute_df = features_df.iloc[start_frame:end_frame]  # Data for the current minute\n",
        "\n",
        "\n",
        "    body_features = minute_df.filter(regex='^body_') # Select only body features\n",
        "    facial_features = minute_df.drop(body_features.columns, axis=1)  # Select only facial features\n",
        "\n",
        "\n",
        "    facial_mean_values = facial_features.mean()\n",
        "    body_mean_values = body_features.mean()\n",
        "    body_std_values = body_features.std()\n",
        "\n",
        "\n",
        "    minute_data.append({\n",
        "        'minute': minute + 1,\n",
        "        **facial_mean_values.to_dict(),   # Unpack facial mean values\n",
        "        **{k + 'avg': v for k, v in body_mean_values.to_dict().items()}, # Unpack body mean values\n",
        "        **{k + 'stdv': v for k, v in body_std_values.to_dict().items()}  # Unpack body std values\n",
        "\n",
        "    })\n",
        "\n",
        "minute_features_df = pd.DataFrame(minute_data)\n",
        "\n",
        "minute_features_df = minute_features_df.rename(columns={col: col.replace('body_', '') for col in minute_features_df.columns if col.startswith('body_')})"
      ],
      "metadata": {
        "id": "Ub1N18hbIZJD"
      },
      "execution_count": 46,
      "outputs": []
    },
    {
      "cell_type": "code",
      "source": [
        "minute_features_df.T"
      ],
      "metadata": {
        "colab": {
          "base_uri": "https://localhost:8080/",
          "height": 444
        },
        "id": "ebhp61qlIa_i",
        "outputId": "1f988e8c-0047-4164-f1b8-360769c62fe1"
      },
      "execution_count": 47,
      "outputs": [
        {
          "output_type": "execute_result",
          "data": {
            "text/plain": [
              "                                               0           1           2   \\\n",
              "minute                                   1.000000    2.000000    3.000000   \n",
              "SyHeadOrientation                     -172.129726 -173.225098 -178.026604   \n",
              "SxHeadOrientation                        3.850241   30.351498   33.511478   \n",
              "SzHeadOrientation                        6.153457  -14.463503  -14.879800   \n",
              "SmouthOpen                               0.005538    0.014877    0.013378   \n",
              "...                                           ...         ...         ...   \n",
              "ElbowRight_WristRightPlaneXYAxisYstdv   49.034782    2.963972    1.873834   \n",
              "ElbowRight_WristRightPlaneYZAxisZstdv   15.288501    1.776074    1.341703   \n",
              "WristRight_HandRightPlaneZXAxisXstdv     2.358049    2.699421    2.102112   \n",
              "WristRight_HandRightPlaneXYAxisYstdv    49.025679    2.705370    3.010263   \n",
              "WristRight_HandRightKinectZAxisstdv     22.658793    2.143386    1.728519   \n",
              "\n",
              "                                               3           4           5   \\\n",
              "minute                                   4.000000    5.000000    6.000000   \n",
              "SyHeadOrientation                     -174.640301 -168.659149 -170.586365   \n",
              "SxHeadOrientation                       35.943309   33.344594   33.452378   \n",
              "SzHeadOrientation                      -13.251258    6.588980  -16.933446   \n",
              "SmouthOpen                               0.009389    0.003264    0.004980   \n",
              "...                                           ...         ...         ...   \n",
              "ElbowRight_WristRightPlaneXYAxisYstdv    1.739532    0.946669    0.462346   \n",
              "ElbowRight_WristRightPlaneYZAxisZstdv    1.288292    0.962781    0.440977   \n",
              "WristRight_HandRightPlaneZXAxisXstdv     1.488165    2.170880    0.845345   \n",
              "WristRight_HandRightPlaneXYAxisYstdv     2.486342    2.572621    0.839149   \n",
              "WristRight_HandRightKinectZAxisstdv      1.849831    1.607253    1.045876   \n",
              "\n",
              "                                               6           7           8   \\\n",
              "minute                                   7.000000    8.000000    9.000000   \n",
              "SyHeadOrientation                     -174.483985 -172.684064 -167.908509   \n",
              "SxHeadOrientation                       36.774313   31.665927   27.919911   \n",
              "SzHeadOrientation                       -6.402111  108.891119   11.138681   \n",
              "SmouthOpen                               0.011597    0.006918    0.016456   \n",
              "...                                           ...         ...         ...   \n",
              "ElbowRight_WristRightPlaneXYAxisYstdv    2.513304    2.022314    1.834750   \n",
              "ElbowRight_WristRightPlaneYZAxisZstdv    6.185051    3.901215    1.613033   \n",
              "WristRight_HandRightPlaneZXAxisXstdv     2.035178    2.150821    2.203507   \n",
              "WristRight_HandRightPlaneXYAxisYstdv     0.280022    2.694077    2.750554   \n",
              "WristRight_HandRightKinectZAxisstdv      7.340917    3.636768    1.877246   \n",
              "\n",
              "                                               9           10          11  \\\n",
              "minute                                  10.000000   11.000000   12.000000   \n",
              "SyHeadOrientation                     -176.581975 -135.453145 -174.400291   \n",
              "SxHeadOrientation                       26.930147   29.105645   23.927778   \n",
              "SzHeadOrientation                       -8.174218   -7.782848   14.890762   \n",
              "SmouthOpen                               0.014022    0.007857    0.012271   \n",
              "...                                           ...         ...         ...   \n",
              "ElbowRight_WristRightPlaneXYAxisYstdv    1.554074    0.754446    2.124201   \n",
              "ElbowRight_WristRightPlaneYZAxisZstdv    2.425214    2.854338    3.702279   \n",
              "WristRight_HandRightPlaneZXAxisXstdv     2.008174    1.904497    2.229196   \n",
              "WristRight_HandRightPlaneXYAxisYstdv     1.646216    1.562800    1.748844   \n",
              "WristRight_HandRightKinectZAxisstdv      2.186673    2.306008    2.593378   \n",
              "\n",
              "                                               12          13         14  \\\n",
              "minute                                  13.000000   14.000000  15.000000   \n",
              "SyHeadOrientation                     -167.926959 -173.327197 -92.215737   \n",
              "SxHeadOrientation                      -12.620109  -10.929159 -11.916764   \n",
              "SzHeadOrientation                      -84.112543  -31.186571 -16.712496   \n",
              "SmouthOpen                               0.018518    0.009340   0.024050   \n",
              "...                                           ...         ...        ...   \n",
              "ElbowRight_WristRightPlaneXYAxisYstdv    0.732516    1.258949   1.370107   \n",
              "ElbowRight_WristRightPlaneYZAxisZstdv    4.236573    2.560832   2.777260   \n",
              "WristRight_HandRightPlaneZXAxisXstdv     2.188228    1.935451   1.083808   \n",
              "WristRight_HandRightPlaneXYAxisYstdv     1.463607    1.098983   1.024666   \n",
              "WristRight_HandRightKinectZAxisstdv      2.398720    3.576263   1.451324   \n",
              "\n",
              "                                               15  \n",
              "minute                                  16.000000  \n",
              "SyHeadOrientation                     -174.904382  \n",
              "SxHeadOrientation                      -11.668979  \n",
              "SzHeadOrientation                      -86.715898  \n",
              "SmouthOpen                               0.015237  \n",
              "...                                           ...  \n",
              "ElbowRight_WristRightPlaneXYAxisYstdv    0.257676  \n",
              "ElbowRight_WristRightPlaneYZAxisZstdv    1.628835  \n",
              "WristRight_HandRightPlaneZXAxisXstdv     1.189378  \n",
              "WristRight_HandRightPlaneXYAxisYstdv     1.365569  \n",
              "WristRight_HandRightKinectZAxisstdv      0.818027  \n",
              "\n",
              "[127 rows x 16 columns]"
            ],
            "text/html": [
              "\n",
              "  <div id=\"df-ede23c86-8b80-4885-8b89-40b86577200e\" class=\"colab-df-container\">\n",
              "    <div>\n",
              "<style scoped>\n",
              "    .dataframe tbody tr th:only-of-type {\n",
              "        vertical-align: middle;\n",
              "    }\n",
              "\n",
              "    .dataframe tbody tr th {\n",
              "        vertical-align: top;\n",
              "    }\n",
              "\n",
              "    .dataframe thead th {\n",
              "        text-align: right;\n",
              "    }\n",
              "</style>\n",
              "<table border=\"1\" class=\"dataframe\">\n",
              "  <thead>\n",
              "    <tr style=\"text-align: right;\">\n",
              "      <th></th>\n",
              "      <th>0</th>\n",
              "      <th>1</th>\n",
              "      <th>2</th>\n",
              "      <th>3</th>\n",
              "      <th>4</th>\n",
              "      <th>5</th>\n",
              "      <th>6</th>\n",
              "      <th>7</th>\n",
              "      <th>8</th>\n",
              "      <th>9</th>\n",
              "      <th>10</th>\n",
              "      <th>11</th>\n",
              "      <th>12</th>\n",
              "      <th>13</th>\n",
              "      <th>14</th>\n",
              "      <th>15</th>\n",
              "    </tr>\n",
              "  </thead>\n",
              "  <tbody>\n",
              "    <tr>\n",
              "      <th>minute</th>\n",
              "      <td>1.000000</td>\n",
              "      <td>2.000000</td>\n",
              "      <td>3.000000</td>\n",
              "      <td>4.000000</td>\n",
              "      <td>5.000000</td>\n",
              "      <td>6.000000</td>\n",
              "      <td>7.000000</td>\n",
              "      <td>8.000000</td>\n",
              "      <td>9.000000</td>\n",
              "      <td>10.000000</td>\n",
              "      <td>11.000000</td>\n",
              "      <td>12.000000</td>\n",
              "      <td>13.000000</td>\n",
              "      <td>14.000000</td>\n",
              "      <td>15.000000</td>\n",
              "      <td>16.000000</td>\n",
              "    </tr>\n",
              "    <tr>\n",
              "      <th>SyHeadOrientation</th>\n",
              "      <td>-172.129726</td>\n",
              "      <td>-173.225098</td>\n",
              "      <td>-178.026604</td>\n",
              "      <td>-174.640301</td>\n",
              "      <td>-168.659149</td>\n",
              "      <td>-170.586365</td>\n",
              "      <td>-174.483985</td>\n",
              "      <td>-172.684064</td>\n",
              "      <td>-167.908509</td>\n",
              "      <td>-176.581975</td>\n",
              "      <td>-135.453145</td>\n",
              "      <td>-174.400291</td>\n",
              "      <td>-167.926959</td>\n",
              "      <td>-173.327197</td>\n",
              "      <td>-92.215737</td>\n",
              "      <td>-174.904382</td>\n",
              "    </tr>\n",
              "    <tr>\n",
              "      <th>SxHeadOrientation</th>\n",
              "      <td>3.850241</td>\n",
              "      <td>30.351498</td>\n",
              "      <td>33.511478</td>\n",
              "      <td>35.943309</td>\n",
              "      <td>33.344594</td>\n",
              "      <td>33.452378</td>\n",
              "      <td>36.774313</td>\n",
              "      <td>31.665927</td>\n",
              "      <td>27.919911</td>\n",
              "      <td>26.930147</td>\n",
              "      <td>29.105645</td>\n",
              "      <td>23.927778</td>\n",
              "      <td>-12.620109</td>\n",
              "      <td>-10.929159</td>\n",
              "      <td>-11.916764</td>\n",
              "      <td>-11.668979</td>\n",
              "    </tr>\n",
              "    <tr>\n",
              "      <th>SzHeadOrientation</th>\n",
              "      <td>6.153457</td>\n",
              "      <td>-14.463503</td>\n",
              "      <td>-14.879800</td>\n",
              "      <td>-13.251258</td>\n",
              "      <td>6.588980</td>\n",
              "      <td>-16.933446</td>\n",
              "      <td>-6.402111</td>\n",
              "      <td>108.891119</td>\n",
              "      <td>11.138681</td>\n",
              "      <td>-8.174218</td>\n",
              "      <td>-7.782848</td>\n",
              "      <td>14.890762</td>\n",
              "      <td>-84.112543</td>\n",
              "      <td>-31.186571</td>\n",
              "      <td>-16.712496</td>\n",
              "      <td>-86.715898</td>\n",
              "    </tr>\n",
              "    <tr>\n",
              "      <th>SmouthOpen</th>\n",
              "      <td>0.005538</td>\n",
              "      <td>0.014877</td>\n",
              "      <td>0.013378</td>\n",
              "      <td>0.009389</td>\n",
              "      <td>0.003264</td>\n",
              "      <td>0.004980</td>\n",
              "      <td>0.011597</td>\n",
              "      <td>0.006918</td>\n",
              "      <td>0.016456</td>\n",
              "      <td>0.014022</td>\n",
              "      <td>0.007857</td>\n",
              "      <td>0.012271</td>\n",
              "      <td>0.018518</td>\n",
              "      <td>0.009340</td>\n",
              "      <td>0.024050</td>\n",
              "      <td>0.015237</td>\n",
              "    </tr>\n",
              "    <tr>\n",
              "      <th>...</th>\n",
              "      <td>...</td>\n",
              "      <td>...</td>\n",
              "      <td>...</td>\n",
              "      <td>...</td>\n",
              "      <td>...</td>\n",
              "      <td>...</td>\n",
              "      <td>...</td>\n",
              "      <td>...</td>\n",
              "      <td>...</td>\n",
              "      <td>...</td>\n",
              "      <td>...</td>\n",
              "      <td>...</td>\n",
              "      <td>...</td>\n",
              "      <td>...</td>\n",
              "      <td>...</td>\n",
              "      <td>...</td>\n",
              "    </tr>\n",
              "    <tr>\n",
              "      <th>ElbowRight_WristRightPlaneXYAxisYstdv</th>\n",
              "      <td>49.034782</td>\n",
              "      <td>2.963972</td>\n",
              "      <td>1.873834</td>\n",
              "      <td>1.739532</td>\n",
              "      <td>0.946669</td>\n",
              "      <td>0.462346</td>\n",
              "      <td>2.513304</td>\n",
              "      <td>2.022314</td>\n",
              "      <td>1.834750</td>\n",
              "      <td>1.554074</td>\n",
              "      <td>0.754446</td>\n",
              "      <td>2.124201</td>\n",
              "      <td>0.732516</td>\n",
              "      <td>1.258949</td>\n",
              "      <td>1.370107</td>\n",
              "      <td>0.257676</td>\n",
              "    </tr>\n",
              "    <tr>\n",
              "      <th>ElbowRight_WristRightPlaneYZAxisZstdv</th>\n",
              "      <td>15.288501</td>\n",
              "      <td>1.776074</td>\n",
              "      <td>1.341703</td>\n",
              "      <td>1.288292</td>\n",
              "      <td>0.962781</td>\n",
              "      <td>0.440977</td>\n",
              "      <td>6.185051</td>\n",
              "      <td>3.901215</td>\n",
              "      <td>1.613033</td>\n",
              "      <td>2.425214</td>\n",
              "      <td>2.854338</td>\n",
              "      <td>3.702279</td>\n",
              "      <td>4.236573</td>\n",
              "      <td>2.560832</td>\n",
              "      <td>2.777260</td>\n",
              "      <td>1.628835</td>\n",
              "    </tr>\n",
              "    <tr>\n",
              "      <th>WristRight_HandRightPlaneZXAxisXstdv</th>\n",
              "      <td>2.358049</td>\n",
              "      <td>2.699421</td>\n",
              "      <td>2.102112</td>\n",
              "      <td>1.488165</td>\n",
              "      <td>2.170880</td>\n",
              "      <td>0.845345</td>\n",
              "      <td>2.035178</td>\n",
              "      <td>2.150821</td>\n",
              "      <td>2.203507</td>\n",
              "      <td>2.008174</td>\n",
              "      <td>1.904497</td>\n",
              "      <td>2.229196</td>\n",
              "      <td>2.188228</td>\n",
              "      <td>1.935451</td>\n",
              "      <td>1.083808</td>\n",
              "      <td>1.189378</td>\n",
              "    </tr>\n",
              "    <tr>\n",
              "      <th>WristRight_HandRightPlaneXYAxisYstdv</th>\n",
              "      <td>49.025679</td>\n",
              "      <td>2.705370</td>\n",
              "      <td>3.010263</td>\n",
              "      <td>2.486342</td>\n",
              "      <td>2.572621</td>\n",
              "      <td>0.839149</td>\n",
              "      <td>0.280022</td>\n",
              "      <td>2.694077</td>\n",
              "      <td>2.750554</td>\n",
              "      <td>1.646216</td>\n",
              "      <td>1.562800</td>\n",
              "      <td>1.748844</td>\n",
              "      <td>1.463607</td>\n",
              "      <td>1.098983</td>\n",
              "      <td>1.024666</td>\n",
              "      <td>1.365569</td>\n",
              "    </tr>\n",
              "    <tr>\n",
              "      <th>WristRight_HandRightKinectZAxisstdv</th>\n",
              "      <td>22.658793</td>\n",
              "      <td>2.143386</td>\n",
              "      <td>1.728519</td>\n",
              "      <td>1.849831</td>\n",
              "      <td>1.607253</td>\n",
              "      <td>1.045876</td>\n",
              "      <td>7.340917</td>\n",
              "      <td>3.636768</td>\n",
              "      <td>1.877246</td>\n",
              "      <td>2.186673</td>\n",
              "      <td>2.306008</td>\n",
              "      <td>2.593378</td>\n",
              "      <td>2.398720</td>\n",
              "      <td>3.576263</td>\n",
              "      <td>1.451324</td>\n",
              "      <td>0.818027</td>\n",
              "    </tr>\n",
              "  </tbody>\n",
              "</table>\n",
              "<p>127 rows × 16 columns</p>\n",
              "</div>\n",
              "    <div class=\"colab-df-buttons\">\n",
              "\n",
              "  <div class=\"colab-df-container\">\n",
              "    <button class=\"colab-df-convert\" onclick=\"convertToInteractive('df-ede23c86-8b80-4885-8b89-40b86577200e')\"\n",
              "            title=\"Convert this dataframe to an interactive table.\"\n",
              "            style=\"display:none;\">\n",
              "\n",
              "  <svg xmlns=\"http://www.w3.org/2000/svg\" height=\"24px\" viewBox=\"0 -960 960 960\">\n",
              "    <path d=\"M120-120v-720h720v720H120Zm60-500h600v-160H180v160Zm220 220h160v-160H400v160Zm0 220h160v-160H400v160ZM180-400h160v-160H180v160Zm440 0h160v-160H620v160ZM180-180h160v-160H180v160Zm440 0h160v-160H620v160Z\"/>\n",
              "  </svg>\n",
              "    </button>\n",
              "\n",
              "  <style>\n",
              "    .colab-df-container {\n",
              "      display:flex;\n",
              "      gap: 12px;\n",
              "    }\n",
              "\n",
              "    .colab-df-convert {\n",
              "      background-color: #E8F0FE;\n",
              "      border: none;\n",
              "      border-radius: 50%;\n",
              "      cursor: pointer;\n",
              "      display: none;\n",
              "      fill: #1967D2;\n",
              "      height: 32px;\n",
              "      padding: 0 0 0 0;\n",
              "      width: 32px;\n",
              "    }\n",
              "\n",
              "    .colab-df-convert:hover {\n",
              "      background-color: #E2EBFA;\n",
              "      box-shadow: 0px 1px 2px rgba(60, 64, 67, 0.3), 0px 1px 3px 1px rgba(60, 64, 67, 0.15);\n",
              "      fill: #174EA6;\n",
              "    }\n",
              "\n",
              "    .colab-df-buttons div {\n",
              "      margin-bottom: 4px;\n",
              "    }\n",
              "\n",
              "    [theme=dark] .colab-df-convert {\n",
              "      background-color: #3B4455;\n",
              "      fill: #D2E3FC;\n",
              "    }\n",
              "\n",
              "    [theme=dark] .colab-df-convert:hover {\n",
              "      background-color: #434B5C;\n",
              "      box-shadow: 0px 1px 3px 1px rgba(0, 0, 0, 0.15);\n",
              "      filter: drop-shadow(0px 1px 2px rgba(0, 0, 0, 0.3));\n",
              "      fill: #FFFFFF;\n",
              "    }\n",
              "  </style>\n",
              "\n",
              "    <script>\n",
              "      const buttonEl =\n",
              "        document.querySelector('#df-ede23c86-8b80-4885-8b89-40b86577200e button.colab-df-convert');\n",
              "      buttonEl.style.display =\n",
              "        google.colab.kernel.accessAllowed ? 'block' : 'none';\n",
              "\n",
              "      async function convertToInteractive(key) {\n",
              "        const element = document.querySelector('#df-ede23c86-8b80-4885-8b89-40b86577200e');\n",
              "        const dataTable =\n",
              "          await google.colab.kernel.invokeFunction('convertToInteractive',\n",
              "                                                    [key], {});\n",
              "        if (!dataTable) return;\n",
              "\n",
              "        const docLinkHtml = 'Like what you see? Visit the ' +\n",
              "          '<a target=\"_blank\" href=https://colab.research.google.com/notebooks/data_table.ipynb>data table notebook</a>'\n",
              "          + ' to learn more about interactive tables.';\n",
              "        element.innerHTML = '';\n",
              "        dataTable['output_type'] = 'display_data';\n",
              "        await google.colab.output.renderOutput(dataTable, element);\n",
              "        const docLink = document.createElement('div');\n",
              "        docLink.innerHTML = docLinkHtml;\n",
              "        element.appendChild(docLink);\n",
              "      }\n",
              "    </script>\n",
              "  </div>\n",
              "\n",
              "\n",
              "<div id=\"df-f8b1e0fd-677e-4fcb-b871-da0fae721645\">\n",
              "  <button class=\"colab-df-quickchart\" onclick=\"quickchart('df-f8b1e0fd-677e-4fcb-b871-da0fae721645')\"\n",
              "            title=\"Suggest charts\"\n",
              "            style=\"display:none;\">\n",
              "\n",
              "<svg xmlns=\"http://www.w3.org/2000/svg\" height=\"24px\"viewBox=\"0 0 24 24\"\n",
              "     width=\"24px\">\n",
              "    <g>\n",
              "        <path d=\"M19 3H5c-1.1 0-2 .9-2 2v14c0 1.1.9 2 2 2h14c1.1 0 2-.9 2-2V5c0-1.1-.9-2-2-2zM9 17H7v-7h2v7zm4 0h-2V7h2v10zm4 0h-2v-4h2v4z\"/>\n",
              "    </g>\n",
              "</svg>\n",
              "  </button>\n",
              "\n",
              "<style>\n",
              "  .colab-df-quickchart {\n",
              "      --bg-color: #E8F0FE;\n",
              "      --fill-color: #1967D2;\n",
              "      --hover-bg-color: #E2EBFA;\n",
              "      --hover-fill-color: #174EA6;\n",
              "      --disabled-fill-color: #AAA;\n",
              "      --disabled-bg-color: #DDD;\n",
              "  }\n",
              "\n",
              "  [theme=dark] .colab-df-quickchart {\n",
              "      --bg-color: #3B4455;\n",
              "      --fill-color: #D2E3FC;\n",
              "      --hover-bg-color: #434B5C;\n",
              "      --hover-fill-color: #FFFFFF;\n",
              "      --disabled-bg-color: #3B4455;\n",
              "      --disabled-fill-color: #666;\n",
              "  }\n",
              "\n",
              "  .colab-df-quickchart {\n",
              "    background-color: var(--bg-color);\n",
              "    border: none;\n",
              "    border-radius: 50%;\n",
              "    cursor: pointer;\n",
              "    display: none;\n",
              "    fill: var(--fill-color);\n",
              "    height: 32px;\n",
              "    padding: 0;\n",
              "    width: 32px;\n",
              "  }\n",
              "\n",
              "  .colab-df-quickchart:hover {\n",
              "    background-color: var(--hover-bg-color);\n",
              "    box-shadow: 0 1px 2px rgba(60, 64, 67, 0.3), 0 1px 3px 1px rgba(60, 64, 67, 0.15);\n",
              "    fill: var(--button-hover-fill-color);\n",
              "  }\n",
              "\n",
              "  .colab-df-quickchart-complete:disabled,\n",
              "  .colab-df-quickchart-complete:disabled:hover {\n",
              "    background-color: var(--disabled-bg-color);\n",
              "    fill: var(--disabled-fill-color);\n",
              "    box-shadow: none;\n",
              "  }\n",
              "\n",
              "  .colab-df-spinner {\n",
              "    border: 2px solid var(--fill-color);\n",
              "    border-color: transparent;\n",
              "    border-bottom-color: var(--fill-color);\n",
              "    animation:\n",
              "      spin 1s steps(1) infinite;\n",
              "  }\n",
              "\n",
              "  @keyframes spin {\n",
              "    0% {\n",
              "      border-color: transparent;\n",
              "      border-bottom-color: var(--fill-color);\n",
              "      border-left-color: var(--fill-color);\n",
              "    }\n",
              "    20% {\n",
              "      border-color: transparent;\n",
              "      border-left-color: var(--fill-color);\n",
              "      border-top-color: var(--fill-color);\n",
              "    }\n",
              "    30% {\n",
              "      border-color: transparent;\n",
              "      border-left-color: var(--fill-color);\n",
              "      border-top-color: var(--fill-color);\n",
              "      border-right-color: var(--fill-color);\n",
              "    }\n",
              "    40% {\n",
              "      border-color: transparent;\n",
              "      border-right-color: var(--fill-color);\n",
              "      border-top-color: var(--fill-color);\n",
              "    }\n",
              "    60% {\n",
              "      border-color: transparent;\n",
              "      border-right-color: var(--fill-color);\n",
              "    }\n",
              "    80% {\n",
              "      border-color: transparent;\n",
              "      border-right-color: var(--fill-color);\n",
              "      border-bottom-color: var(--fill-color);\n",
              "    }\n",
              "    90% {\n",
              "      border-color: transparent;\n",
              "      border-bottom-color: var(--fill-color);\n",
              "    }\n",
              "  }\n",
              "</style>\n",
              "\n",
              "  <script>\n",
              "    async function quickchart(key) {\n",
              "      const quickchartButtonEl =\n",
              "        document.querySelector('#' + key + ' button');\n",
              "      quickchartButtonEl.disabled = true;  // To prevent multiple clicks.\n",
              "      quickchartButtonEl.classList.add('colab-df-spinner');\n",
              "      try {\n",
              "        const charts = await google.colab.kernel.invokeFunction(\n",
              "            'suggestCharts', [key], {});\n",
              "      } catch (error) {\n",
              "        console.error('Error during call to suggestCharts:', error);\n",
              "      }\n",
              "      quickchartButtonEl.classList.remove('colab-df-spinner');\n",
              "      quickchartButtonEl.classList.add('colab-df-quickchart-complete');\n",
              "    }\n",
              "    (() => {\n",
              "      let quickchartButtonEl =\n",
              "        document.querySelector('#df-f8b1e0fd-677e-4fcb-b871-da0fae721645 button');\n",
              "      quickchartButtonEl.style.display =\n",
              "        google.colab.kernel.accessAllowed ? 'block' : 'none';\n",
              "    })();\n",
              "  </script>\n",
              "</div>\n",
              "\n",
              "    </div>\n",
              "  </div>\n"
            ],
            "application/vnd.google.colaboratory.intrinsic+json": {
              "type": "dataframe",
              "summary": "{\n  \"name\": \"minute_features_df\",\n  \"rows\": 127,\n  \"fields\": [\n    {\n      \"column\": 0,\n      \"properties\": {\n        \"dtype\": \"number\",\n        \"std\": 59.225407342348305,\n        \"min\": -177.05262914430904,\n        \"max\": 168.1982849583224,\n        \"num_unique_values\": 111,\n        \"samples\": [\n          5.547186735827213,\n          0.00397065281867981,\n          0.005537647823142011\n        ],\n        \"semantic_type\": \"\",\n        \"description\": \"\"\n      }\n    },\n    {\n      \"column\": 1,\n      \"properties\": {\n        \"dtype\": \"number\",\n        \"std\": 60.141034424814954,\n        \"min\": -173.22509800840024,\n        \"max\": 162.4401191714232,\n        \"num_unique_values\": 110,\n        \"samples\": [\n          1.524814471609124,\n          0.005985865548038011,\n          0.014877098896890293\n        ],\n        \"semantic_type\": \"\",\n        \"description\": \"\"\n      }\n    },\n    {\n      \"column\": 2,\n      \"properties\": {\n        \"dtype\": \"number\",\n        \"std\": 60.19045712699097,\n        \"min\": -178.0266039770737,\n        \"max\": 179.69268400347195,\n        \"num_unique_values\": 110,\n        \"samples\": [\n          2.578618154074864,\n          0.006718888750812653,\n          0.013377683496357875\n        ],\n        \"semantic_type\": \"\",\n        \"description\": \"\"\n      }\n    },\n    {\n      \"column\": 3,\n      \"properties\": {\n        \"dtype\": \"number\",\n        \"std\": 60.565447237947446,\n        \"min\": -177.99796057549784,\n        \"max\": 160.09939901658998,\n        \"num_unique_values\": 109,\n        \"samples\": [\n          1.687986096895158,\n          0.008692917482517876,\n          0.009388802224629416\n        ],\n        \"semantic_type\": \"\",\n        \"description\": \"\"\n      }\n    },\n    {\n      \"column\": 4,\n      \"properties\": {\n        \"dtype\": \"number\",\n        \"std\": 60.07579131104264,\n        \"min\": -169.7797777549702,\n        \"max\": 165.05915499449668,\n        \"num_unique_values\": 109,\n        \"samples\": [\n          1.826170766078178,\n          0.010851405129663433,\n          0.0032644952222801323\n        ],\n        \"semantic_type\": \"\",\n        \"description\": \"\"\n      }\n    },\n    {\n      \"column\": 5,\n      \"properties\": {\n        \"dtype\": \"number\",\n        \"std\": 60.205966797225706,\n        \"min\": -172.79689076855146,\n        \"max\": 174.52495169231312,\n        \"num_unique_values\": 109,\n        \"samples\": [\n          0.9359025009681918,\n          0.009472836426152837,\n          0.0049798001711201636\n        ],\n        \"semantic_type\": \"\",\n        \"description\": \"\"\n      }\n    },\n    {\n      \"column\": 6,\n      \"properties\": {\n        \"dtype\": \"number\",\n        \"std\": 62.56424894854228,\n        \"min\": -174.48398516385896,\n        \"max\": 173.1479376852553,\n        \"num_unique_values\": 110,\n        \"samples\": [\n          2.2182183665387387,\n          0.008311109844205,\n          0.011597436847294872\n        ],\n        \"semantic_type\": \"\",\n        \"description\": \"\"\n      }\n    },\n    {\n      \"column\": 7,\n      \"properties\": {\n        \"dtype\": \"number\",\n        \"std\": 66.25888953373054,\n        \"min\": -172.68406411722927,\n        \"max\": 176.7433937209941,\n        \"num_unique_values\": 109,\n        \"samples\": [\n          4.679456151652619,\n          0.004553531456139729,\n          0.006918021498694266\n        ],\n        \"semantic_type\": \"\",\n        \"description\": \"\"\n      }\n    },\n    {\n      \"column\": 8,\n      \"properties\": {\n        \"dtype\": \"number\",\n        \"std\": 65.63887742555833,\n        \"min\": -171.8624718996485,\n        \"max\": 173.6923922104016,\n        \"num_unique_values\": 110,\n        \"samples\": [\n          2.026531280933272,\n          0.005936160892539777,\n          0.016456264247678397\n        ],\n        \"semantic_type\": \"\",\n        \"description\": \"\"\n      }\n    },\n    {\n      \"column\": 9,\n      \"properties\": {\n        \"dtype\": \"number\",\n        \"std\": 65.69155943990106,\n        \"min\": -176.5819746731435,\n        \"max\": 168.27059589555043,\n        \"num_unique_values\": 110,\n        \"samples\": [\n          0.9573192877311459,\n          0.004686270082361466,\n          0.014021983683570303\n        ],\n        \"semantic_type\": \"\",\n        \"description\": \"\"\n      }\n    },\n    {\n      \"column\": 10,\n      \"properties\": {\n        \"dtype\": \"number\",\n        \"std\": 65.81677092824847,\n        \"min\": -175.5488672323145,\n        \"max\": 171.67729939074806,\n        \"num_unique_values\": 109,\n        \"samples\": [\n          1.3778604362483677,\n          0.005020275278414711,\n          0.00785741078915698\n        ],\n        \"semantic_type\": \"\",\n        \"description\": \"\"\n      }\n    },\n    {\n      \"column\": 11,\n      \"properties\": {\n        \"dtype\": \"number\",\n        \"std\": 66.34687855351505,\n        \"min\": -174.40029118558752,\n        \"max\": 151.92452137085473,\n        \"num_unique_values\": 114,\n        \"samples\": [\n          6.020001131303039,\n          0.012271121552209672,\n          -73.61739476968368\n        ],\n        \"semantic_type\": \"\",\n        \"description\": \"\"\n      }\n    },\n    {\n      \"column\": 12,\n      \"properties\": {\n        \"dtype\": \"number\",\n        \"std\": 66.85622705093795,\n        \"min\": -167.926958542771,\n        \"max\": 181.65606803428685,\n        \"num_unique_values\": 110,\n        \"samples\": [\n          4.89673570454445,\n          -0.0027806031703948974,\n          0.018517830779792355\n        ],\n        \"semantic_type\": \"\",\n        \"description\": \"\"\n      }\n    },\n    {\n      \"column\": 13,\n      \"properties\": {\n        \"dtype\": \"number\",\n        \"std\": 65.67166343285342,\n        \"min\": -175.7753440867624,\n        \"max\": 168.86387767756506,\n        \"num_unique_values\": 112,\n        \"samples\": [\n          -175.7753440867624,\n          -71.21692972495399,\n          0.009339509962190582\n        ],\n        \"semantic_type\": \"\",\n        \"description\": \"\"\n      }\n    },\n    {\n      \"column\": 14,\n      \"properties\": {\n        \"dtype\": \"number\",\n        \"std\": 64.30447193636077,\n        \"min\": -175.52087064267275,\n        \"max\": 152.95494399975198,\n        \"num_unique_values\": 112,\n        \"samples\": [\n          -175.41599810573933,\n          -71.23619618764275,\n          0.024049897771499414\n        ],\n        \"semantic_type\": \"\",\n        \"description\": \"\"\n      }\n    },\n    {\n      \"column\": 15,\n      \"properties\": {\n        \"dtype\": \"number\",\n        \"std\": 67.38696408865626,\n        \"min\": -178.4342980902051,\n        \"max\": 143.38037647654284,\n        \"num_unique_values\": 110,\n        \"samples\": [\n          0.5875249248329846,\n          0.004876416091527349,\n          0.015236544171323326\n        ],\n        \"semantic_type\": \"\",\n        \"description\": \"\"\n      }\n    }\n  ]\n}"
            }
          },
          "metadata": {},
          "execution_count": 47
        }
      ]
    },
    {
      "cell_type": "markdown",
      "source": [
        "# Prueba de predicción con LSTM usando features extraidas de un video"
      ],
      "metadata": {
        "id": "hU0Kmft2W8Es"
      }
    },
    {
      "cell_type": "code",
      "source": [
        "#import torch\n",
        "#import torch.nn as nn\n",
        "\n",
        "class StressLSTM(nn.Module):\n",
        "    def __init__(self, input_dim, hidden_dim=88, num_layers=2, dropout=0.4550597814102049):\n",
        "        super(StressLSTM, self).__init__()\n",
        "        self.lstm = nn.LSTM(input_dim, hidden_dim, num_layers, batch_first=True, dropout=dropout)\n",
        "        self.batch_norm = nn.BatchNorm1d(hidden_dim)  # Batch Normalization\n",
        "        self.fc = nn.Linear(hidden_dim, 1)\n",
        "\n",
        "    def forward(self, x):\n",
        "        lstm_out, _ = self.lstm(x.unsqueeze(1))  # (batch, seq_len=1, input_dim)\n",
        "        lstm_out = self.batch_norm(lstm_out[:, -1, :])  # Última salida del LSTM con batch norm\n",
        "        return self.fc(lstm_out)  # Pasar por la capa totalmente conectada"
      ],
      "metadata": {
        "id": "kIM0TP5x4ai3"
      },
      "execution_count": 95,
      "outputs": []
    },
    {
      "cell_type": "code",
      "source": [
        "#import torch\n",
        "modelo_LSTM = torch.load('modelo_LSTM.pkl', weights_only=False)\n",
        "modelo_LSTM.eval()"
      ],
      "metadata": {
        "colab": {
          "base_uri": "https://localhost:8080/"
        },
        "id": "-2Aom-b44hX0",
        "outputId": "a6939367-dbdc-43be-aa55-44bef0eeb9b2"
      },
      "execution_count": 96,
      "outputs": [
        {
          "output_type": "execute_result",
          "data": {
            "text/plain": [
              "StressLSTM(\n",
              "  (lstm): LSTM(134, 88, num_layers=2, batch_first=True, dropout=0.455059781)\n",
              "  (batch_norm): BatchNorm1d(88, eps=1e-05, momentum=0.1, affine=True, track_running_stats=True)\n",
              "  (fc): Linear(in_features=88, out_features=1, bias=True)\n",
              ")"
            ]
          },
          "metadata": {},
          "execution_count": 96
        }
      ]
    },
    {
      "cell_type": "code",
      "source": [
        "#from sklearn.preprocessing import StandardScaler\n",
        "y = np.array(range(0,11)).reshape(-1, 1)\n",
        "data_to_scale = minute_features_df.drop(columns=['minute'])\n",
        "scaler = StandardScaler()\n",
        "scaled_data = scaler.fit_transform(data_to_scale)\n",
        "scaled_tensor = torch.tensor(scaled_data, dtype=torch.float32)\n",
        "scaled_y = scaler.fit_transform(y)"
      ],
      "metadata": {
        "id": "O65oG9vGPJMx"
      },
      "execution_count": 120,
      "outputs": []
    },
    {
      "cell_type": "code",
      "source": [
        "padding_size = 134 - scaled_tensor.shape[1]  # Calculate padding size\n",
        "if padding_size > 0:\n",
        "    padding = torch.zeros(scaled_tensor.shape[0], padding_size, dtype=torch.float32)\n",
        "    scaled_tensor = torch.cat([scaled_tensor, padding], dim=1)"
      ],
      "metadata": {
        "id": "4d0bTnnzP6T6"
      },
      "execution_count": 121,
      "outputs": []
    },
    {
      "cell_type": "code",
      "source": [
        "with torch.no_grad():\n",
        "    prediction = modelo_LSTM(scaled_tensor)\n",
        "prediction = [round(x) for x in scaler.inverse_transform(np.array(prediction).reshape(-1, 1)).flatten()]\n",
        "print(\"Predicción:\", prediction)"
      ],
      "metadata": {
        "id": "y3SdafXN45HQ",
        "colab": {
          "base_uri": "https://localhost:8080/"
        },
        "outputId": "39df0c66-29c0-4829-b05b-02c82dac3ae0"
      },
      "execution_count": 125,
      "outputs": [
        {
          "output_type": "stream",
          "name": "stdout",
          "text": [
            "Predicción: [5, 6, 5, 5, 5, 6, 5, 4, 3, 5, 5, 4, 3, 6, 4, 6]\n"
          ]
        }
      ]
    },
    {
      "cell_type": "markdown",
      "source": [
        "# Prueba con xgb"
      ],
      "metadata": {
        "id": "nxuylQukKSFt"
      }
    },
    {
      "cell_type": "code",
      "source": [
        "##Entrenar modelo con los mejores hiperparámetros\n",
        "#hiperparametros = {'n_estimators': 144,\n",
        "#                   'max_depth': 4,\n",
        "#                   'learning_rate': 0.02928947348634358,\n",
        "#                   'subsample': 0.6839171426671771,\n",
        "#                   'colsample_bytree': 0.7849449085327913,\n",
        "#                   'reg_lambda': 1.4331398962320347,\n",
        "#                   'reg_alpha': 0.2753147917266039,\n",
        "#                   'min_child_weight': 5,\n",
        "#                   'gamma': 0.6505640521246205}"
      ],
      "metadata": {
        "id": "pSkAgWR2MAOf"
      },
      "execution_count": 18,
      "outputs": []
    },
    {
      "cell_type": "code",
      "source": [
        "import xgboost as xgb\n",
        "\n",
        "modelo_xgb = xgb.Booster()\n",
        "modelo_xgb.load_model('modelo_xgb.ubj')"
      ],
      "metadata": {
        "id": "82RhQlZdKRdG"
      },
      "execution_count": 126,
      "outputs": []
    },
    {
      "cell_type": "code",
      "source": [
        "data_to_predict = minute_features_df.drop(columns=['minute'])"
      ],
      "metadata": {
        "id": "tiAIkgf2PnEi"
      },
      "execution_count": 127,
      "outputs": []
    },
    {
      "cell_type": "code",
      "source": [
        "feature_names_modelo = modelo_xgb.feature_names\n",
        "feature_names_entrada = data_to_predict.columns.tolist()\n",
        "\n",
        "features_sobrantes_en_entrada = set(feature_names_entrada) - set(feature_names_modelo)\n",
        "features_faltantes_en_entrada = set(feature_names_modelo) - set(feature_names_entrada)\n",
        "\n"
      ],
      "metadata": {
        "id": "N2CX99IVQ78u"
      },
      "execution_count": 128,
      "outputs": []
    },
    {
      "cell_type": "code",
      "source": [
        "data_to_predict = data_to_predict.drop(columns=list(features_sobrantes_en_entrada))"
      ],
      "metadata": {
        "id": "-SuPQeqMhJrS"
      },
      "execution_count": 129,
      "outputs": []
    },
    {
      "cell_type": "code",
      "source": [
        "#for feature in features_faltantes_en_entrada:\n",
        "#  data_to_predict[feature] = 0  # Or another appropriate default value\n",
        "data_to_predict = data_to_predict.assign(**{feature: 0 for feature in features_faltantes_en_entrada})"
      ],
      "metadata": {
        "id": "u2H84uDrhNEv"
      },
      "execution_count": 131,
      "outputs": []
    },
    {
      "cell_type": "code",
      "source": [
        "data_to_predict = data_to_predict[feature_names_modelo]"
      ],
      "metadata": {
        "id": "6TNBzz5dhVWt"
      },
      "execution_count": 132,
      "outputs": []
    },
    {
      "cell_type": "code",
      "source": [
        "dmatrix_data = xgb.DMatrix(data_to_predict)"
      ],
      "metadata": {
        "id": "iC0ebh0vhhI0"
      },
      "execution_count": 61,
      "outputs": []
    },
    {
      "cell_type": "code",
      "source": [
        "predicciones = np.round(modelo_xgb.predict(dmatrix_data),0)"
      ],
      "metadata": {
        "id": "NBm_MgJNhi9p"
      },
      "execution_count": 134,
      "outputs": []
    },
    {
      "cell_type": "code",
      "source": [
        "print(\"Predicciones:\", predicciones)"
      ],
      "metadata": {
        "colab": {
          "base_uri": "https://localhost:8080/"
        },
        "id": "D_-Qq-qFhkyf",
        "outputId": "c42ceac9-0ce8-43cd-ac2b-f85a811b055c"
      },
      "execution_count": 135,
      "outputs": [
        {
          "output_type": "stream",
          "name": "stdout",
          "text": [
            "Predicciones: [4. 3. 3. 4. 3. 3. 3. 4. 4. 4. 4. 4. 3. 4. 4. 4.]\n"
          ]
        }
      ]
    },
    {
      "cell_type": "markdown",
      "source": [
        "# Prueba con RF"
      ],
      "metadata": {
        "id": "vtFH0a50iM6w"
      }
    },
    {
      "cell_type": "code",
      "source": [
        "import pickle"
      ],
      "metadata": {
        "id": "TA07_VVL2RlS"
      },
      "execution_count": 64,
      "outputs": []
    },
    {
      "cell_type": "code",
      "source": [
        "with open('modelo_Random_Forest.pkl', 'rb') as f:\n",
        "    modelo_RF = pickle.load(f)\n"
      ],
      "metadata": {
        "id": "ugXRHIvo2SS1"
      },
      "execution_count": 72,
      "outputs": []
    },
    {
      "cell_type": "code",
      "source": [
        "data_to_predict = minute_features_df.drop(columns=['minute'])"
      ],
      "metadata": {
        "id": "mLm9PXi32eDy"
      },
      "execution_count": 73,
      "outputs": []
    },
    {
      "cell_type": "code",
      "source": [
        "feature_names_modelo = modelo_RF.feature_names_in_"
      ],
      "metadata": {
        "id": "BuVEL2Vh2hVC"
      },
      "execution_count": 74,
      "outputs": []
    },
    {
      "cell_type": "code",
      "source": [
        "feature_names_entrada = data_to_predict.columns.tolist()\n",
        "\n",
        "features_sobrantes_en_entrada = set(feature_names_entrada) - set(feature_names_modelo)\n",
        "features_faltantes_en_entrada = set(feature_names_modelo) - set(feature_names_entrada)\n"
      ],
      "metadata": {
        "id": "wJT5zPDz2kye"
      },
      "execution_count": 75,
      "outputs": []
    },
    {
      "cell_type": "code",
      "source": [
        "data_to_predict = data_to_predict.drop(columns=list(features_sobrantes_en_entrada))"
      ],
      "metadata": {
        "id": "T4W1iFDL2nGA"
      },
      "execution_count": 76,
      "outputs": []
    },
    {
      "cell_type": "code",
      "source": [
        "for feature in features_faltantes_en_entrada:\n",
        "    data_to_predict[feature] = 0"
      ],
      "metadata": {
        "id": "F-VrSeR22p5_"
      },
      "execution_count": 77,
      "outputs": []
    },
    {
      "cell_type": "code",
      "source": [
        "data_to_predict = data_to_predict[feature_names_modelo]"
      ],
      "metadata": {
        "id": "pDNYf4yJ2sDy"
      },
      "execution_count": 78,
      "outputs": []
    },
    {
      "cell_type": "code",
      "source": [
        "predicciones = modelo_RF.predict(data_to_predict)"
      ],
      "metadata": {
        "id": "RJ8sJW2k2vDt"
      },
      "execution_count": 79,
      "outputs": []
    },
    {
      "cell_type": "code",
      "source": [
        "print(\"Predicciones:\", predicciones)"
      ],
      "metadata": {
        "colab": {
          "base_uri": "https://localhost:8080/"
        },
        "id": "eP-IbKQN2w3G",
        "outputId": "407f068a-e89e-4aff-bbc4-8fba2b9f9edd"
      },
      "execution_count": 80,
      "outputs": [
        {
          "output_type": "stream",
          "name": "stdout",
          "text": [
            "Predicciones: [6 3 3 3 6 3 6 6 6 6 6 6 6 6 6 6]\n"
          ]
        }
      ]
    },
    {
      "cell_type": "markdown",
      "source": [
        "# Prueba Decision Tree"
      ],
      "metadata": {
        "id": "fOUUB_9cxmZM"
      }
    },
    {
      "cell_type": "code",
      "source": [
        "import pickle\n",
        "with open('modelo_DecisionTree.pkl', 'rb') as f:\n",
        "    modelo_RF = pickle.load(f)\n",
        "data_to_predict = minute_features_df.drop(columns=['minute'])\n",
        "feature_names_modelo = modelo_RF.feature_names_in_\n",
        "feature_names_entrada = data_to_predict.columns.tolist()\n",
        "\n",
        "features_sobrantes_en_entrada = set(feature_names_entrada) - set(feature_names_modelo)\n",
        "features_faltantes_en_entrada = set(feature_names_modelo) - set(feature_names_entrada)\n",
        "data_to_predict = data_to_predict.drop(columns=list(features_sobrantes_en_entrada))\n",
        "for feature in features_faltantes_en_entrada:\n",
        "    data_to_predict[feature] = 0\n",
        "data_to_predict = data_to_predict[feature_names_modelo]\n",
        "scaler = StandardScaler()\n",
        "data_to_predict = scaler.fit_transform(data_to_predict)\n",
        "predicciones = modelo_RF.predict(data_to_predict)\n",
        "print(\"Predicciones:\", predicciones)"
      ],
      "metadata": {
        "colab": {
          "base_uri": "https://localhost:8080/"
        },
        "id": "JeHQ7fZ8xllw",
        "outputId": "24a4cd96-5fb4-4648-de95-ddafce7713d1"
      },
      "execution_count": 83,
      "outputs": [
        {
          "output_type": "stream",
          "name": "stdout",
          "text": [
            "Predicciones: [ 2  2  2  2  4  1  5 10  2  3  3  5  1  1  3  3]\n"
          ]
        },
        {
          "output_type": "stream",
          "name": "stderr",
          "text": [
            "/usr/local/lib/python3.11/dist-packages/sklearn/utils/validation.py:2739: UserWarning: X does not have valid feature names, but DecisionTreeClassifier was fitted with feature names\n",
            "  warnings.warn(\n"
          ]
        }
      ]
    },
    {
      "cell_type": "code",
      "source": [
        "\n"
      ],
      "metadata": {
        "id": "Yd_c-f8kxrS9"
      },
      "execution_count": 40,
      "outputs": []
    }
  ]
}